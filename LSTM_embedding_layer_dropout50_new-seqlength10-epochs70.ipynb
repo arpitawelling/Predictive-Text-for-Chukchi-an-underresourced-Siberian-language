{
 "cells": [
  {
   "cell_type": "code",
   "execution_count": 2,
   "id": "1b7c96b3",
   "metadata": {
    "colab": {
     "base_uri": "https://localhost:8080/"
    },
    "id": "1b7c96b3",
    "outputId": "9c9e0436-35e3-4d4b-f102-ddcc74f0712e"
   },
   "outputs": [
    {
     "name": "stdout",
     "output_type": "stream",
     "text": [
      "SYS 3.10.2 (main, Mar 16 2022, 10:43:30) [GCC 4.8.5 20150623 (Red Hat 4.8.5-44)]\n",
      "2.10.0\n"
     ]
    }
   ],
   "source": [
    "import sys\n",
    "print(\"SYS\",sys.version)\n",
    "import numpy as np\n",
    "import keras\n",
    "import tensorflow as tf\n",
    "print(tf.__version__)\n",
    "\n",
    "# tf.set_random_seed(42)\n",
    "import keras.backend as K\n",
    "from tensorflow.keras.models import Sequential, load_model\n",
    "from tensorflow.keras.layers import Dense, Activation, Embedding\n",
    "from tensorflow.keras.layers import LSTM, Dropout\n",
    "from tensorflow.keras.layers import TimeDistributed\n",
    "from tensorflow.keras.layers import Dense, Activation, Dropout, RepeatVector\n",
    "from keras.utils import np_utils\n",
    "# from tf.keras.optimizers import RMSprop\n",
    "import matplotlib.pyplot as plt\n",
    "import pickle"
   ]
  },
  {
   "cell_type": "code",
   "execution_count": 14,
   "id": "a2979c21",
   "metadata": {
    "colab": {
     "base_uri": "https://localhost:8080/",
     "height": 237
    },
    "id": "a2979c21",
    "outputId": "433a24d7-6cb6-4a40-f7d5-eda8c06eef13"
   },
   "outputs": [
    {
     "name": "stdout",
     "output_type": "stream",
     "text": [
      "{'с', ' ', 'з', 'к', 'а', 'н', 'ч', 'ъ', 'д', 'г', 'қ', 'р', 'й', 'в', 'я', 'ʼ', 'о', 'б', 'ц', 'х', 'ь', 'и', 'п', 'ӈ', 'ж', 'ы', 'ф', 'ю', 'е', 'ё', '’', 'ӄ', 'у', 'э', 'щ', 'ң', 'м', 'ш', 'ԓ', 'т'}\n",
      "[' ', 'ʼ', 'а', 'б', 'в', 'г', 'д', 'е', 'ж', 'з', 'и', 'й', 'к', 'м', 'н', 'о', 'п', 'р', 'с', 'т', 'у', 'ф', 'х', 'ц', 'ч', 'ш', 'щ', 'ъ', 'ы', 'ь', 'э', 'ю', 'я', 'ё', 'қ', 'ң', 'ӄ', 'ӈ', 'ԓ', '’']\n",
      "{' ': 0, 'ʼ': 1, 'а': 2, 'б': 3, 'в': 4, 'г': 5, 'д': 6, 'е': 7, 'ж': 8, 'з': 9, 'и': 10, 'й': 11, 'к': 12, 'м': 13, 'н': 14, 'о': 15, 'п': 16, 'р': 17, 'с': 18, 'т': 19, 'у': 20, 'ф': 21, 'х': 22, 'ц': 23, 'ч': 24, 'ш': 25, 'щ': 26, 'ъ': 27, 'ы': 28, 'ь': 29, 'э': 30, 'ю': 31, 'я': 32, 'ё': 33, 'қ': 34, 'ң': 35, 'ӄ': 36, 'ӈ': 37, 'ԓ': 38, '’': 39, '<UNK>': 40}\n",
      "{0: ' ', 1: 'ʼ', 2: 'а', 3: 'б', 4: 'в', 5: 'г', 6: 'д', 7: 'е', 8: 'ж', 9: 'з', 10: 'и', 11: 'й', 12: 'к', 13: 'м', 14: 'н', 15: 'о', 16: 'п', 17: 'р', 18: 'с', 19: 'т', 20: 'у', 21: 'ф', 22: 'х', 23: 'ц', 24: 'ч', 25: 'ш', 26: 'щ', 27: 'ъ', 28: 'ы', 29: 'ь', 30: 'э', 31: 'ю', 32: 'я', 33: 'ё', 34: 'қ', 35: 'ң', 36: 'ӄ', 37: 'ӈ', 38: 'ԓ', 39: '’', 40: '<UNK>'}\n",
      "Y length: 1118341\n",
      "Patterns:  1118341\n",
      "[[[ 2]\n",
      "  [13]\n",
      "  [ 2]\n",
      "  ...\n",
      "  [30]\n",
      "  [ 4]\n",
      "  [ 2]]\n",
      "\n",
      " [[13]\n",
      "  [ 2]\n",
      "  [17]\n",
      "  ...\n",
      "  [ 4]\n",
      "  [ 2]\n",
      "  [17]]\n",
      "\n",
      " [[ 2]\n",
      "  [17]\n",
      "  [ 2]\n",
      "  ...\n",
      "  [ 2]\n",
      "  [17]\n",
      "  [ 2]]\n",
      "\n",
      " ...\n",
      "\n",
      " [[10]\n",
      "  [36]\n",
      "  [20]\n",
      "  ...\n",
      "  [ 0]\n",
      "  [10]\n",
      "  [ 4]]\n",
      "\n",
      " [[36]\n",
      "  [20]\n",
      "  [12]\n",
      "  ...\n",
      "  [10]\n",
      "  [ 4]\n",
      "  [14]]\n",
      "\n",
      " [[20]\n",
      "  [12]\n",
      "  [30]\n",
      "  ...\n",
      "  [ 4]\n",
      "  [14]\n",
      "  [10]]]\n",
      "[[0. 0. 0. ... 0. 0. 0.]\n",
      " [0. 0. 1. ... 0. 0. 0.]\n",
      " [0. 0. 0. ... 0. 0. 0.]\n",
      " ...\n",
      " [0. 0. 0. ... 0. 0. 0.]\n",
      " [0. 0. 0. ... 0. 0. 0.]\n",
      " [0. 0. 0. ... 0. 0. 0.]]\n",
      "Total vocab size:  41\n"
     ]
    }
   ],
   "source": [
    "# This is the training data\n",
    "training_file =\"train.tsv\"\n",
    "\n",
    "\n",
    "\n",
    "corpus = \"\"\n",
    "for line in open(training_file).readlines():\n",
    "\n",
    "\t# Each line in the training data is two columns\n",
    "\t# тыкгаткэта ивнин риӄукэтэ\tты>кгат>кэ>та ив>ни>н риӄукэ>тэ\n",
    "\trow = line.strip().split('\\t')\n",
    "\t# print(\"row\", row)\n",
    "\t# The tokens are in the first column\n",
    "\ttokens = row[0]\n",
    "\t# Add the tokens to the list of sentences\n",
    "\tcorpus+=tokens\n",
    "\n",
    "\n",
    "print(set(corpus))\n",
    "chars = sorted(list(set(corpus)))\n",
    "print(chars)\n",
    "char_index = dict((c,i) for i,c in enumerate(chars))\n",
    "index_char = dict((i,c) for i,c in enumerate(chars))\n",
    "char_index[\"<UNK>\"]=len(chars)\n",
    "index_char[len(chars)]=\"<UNK>\"\n",
    "print(char_index)\n",
    "print(index_char)\n",
    "\n",
    "SEQUENCE_LENGTH = 10\n",
    "step = 1\n",
    "sentences = []\n",
    "next_chars = []\n",
    "X=[]\n",
    "Y=[]\n",
    "for i in range(0, len(corpus) - SEQUENCE_LENGTH, step):\n",
    "    sentences = corpus[i: i + SEQUENCE_LENGTH]\n",
    "    next_chars = corpus[i + SEQUENCE_LENGTH]\n",
    "    X.append([char_index[char] for char in sentences])\n",
    "    Y.append(char_index[next_chars])\n",
    "    \n",
    "n_patterns = len(X)\n",
    "print(\"Y length:\",len(Y))\n",
    "print(\"Patterns: \",n_patterns)\n",
    "vocab_size = len(chars) + 1\n",
    "x = np.reshape(X, (n_patterns, SEQUENCE_LENGTH, 1))\n",
    "y = np_utils.to_categorical(Y,num_classes=vocab_size)\n",
    "\n",
    "print(x)\n",
    "print(y)\n",
    "print(\"Total vocab size: \",vocab_size)\n"
   ]
  },
  {
   "cell_type": "code",
   "execution_count": 15,
   "id": "iaZbixSJb1tC",
   "metadata": {
    "colab": {
     "base_uri": "https://localhost:8080/"
    },
    "id": "iaZbixSJb1tC",
    "outputId": "e843ef4e-e8dd-4af2-b433-a7af93711cca"
   },
   "outputs": [
    {
     "name": "stdout",
     "output_type": "stream",
     "text": [
      "(1118341, 41)\n"
     ]
    }
   ],
   "source": [
    "print(y.shape)"
   ]
  },
  {
   "cell_type": "code",
   "execution_count": 16,
   "id": "oN6e1qWab_8q",
   "metadata": {
    "colab": {
     "base_uri": "https://localhost:8080/"
    },
    "id": "oN6e1qWab_8q",
    "outputId": "b61a1578-9c6e-4d02-d892-e8eec9170668"
   },
   "outputs": [
    {
     "name": "stdout",
     "output_type": "stream",
     "text": [
      "40\n"
     ]
    }
   ],
   "source": [
    "print(len(chars))"
   ]
  },
  {
   "cell_type": "code",
   "execution_count": 17,
   "id": "958d1dbb",
   "metadata": {
    "colab": {
     "base_uri": "https://localhost:8080/"
    },
    "id": "958d1dbb",
    "outputId": "90871a3b-9937-485f-9a60-7c838abc7234"
   },
   "outputs": [
    {
     "name": "stdout",
     "output_type": "stream",
     "text": [
      "Shape of X: (1118341, 10, 1)\n",
      "Shape of Y: (1118341, 41)\n"
     ]
    }
   ],
   "source": [
    "print(\"Shape of X:\",x.shape)\n",
    "print(\"Shape of Y:\",y.shape)"
   ]
  },
  {
   "cell_type": "code",
   "execution_count": 18,
   "id": "082a443a",
   "metadata": {
    "colab": {
     "base_uri": "https://localhost:8080/"
    },
    "id": "082a443a",
    "outputId": "1738d27a-5701-4d06-f4ed-db29f2c2c4e4"
   },
   "outputs": [
    {
     "name": "stdout",
     "output_type": "stream",
     "text": [
      "[[13, 2, 17, 2, 4, 12, 30, 4, 2, 17], [2, 17, 2, 4, 12, 30, 4, 2, 17, 2], [17, 2, 4, 12, 30, 4, 2, 17, 2, 19], [2, 4, 12, 30, 4, 2, 17, 2, 19, 30], [4, 12, 30, 4, 2, 17, 2, 19, 30, 14], [12, 30, 4, 2, 17, 2, 19, 30, 14, 0], [30, 4, 2, 17, 2, 19, 30, 14, 0, 19], [4, 2, 17, 2, 19, 30, 14, 0, 19, 2], [2, 17, 2, 19, 30, 14, 0, 19, 2, 2]]\n"
     ]
    }
   ],
   "source": [
    "print(X[1:10])"
   ]
  },
  {
   "cell_type": "code",
   "execution_count": 19,
   "id": "0f5c1ebf",
   "metadata": {
    "id": "0f5c1ebf"
   },
   "outputs": [],
   "source": [
    "embedding_dim = 10\n"
   ]
  },
  {
   "cell_type": "code",
   "execution_count": 20,
   "id": "b00d1f82",
   "metadata": {
    "colab": {
     "base_uri": "https://localhost:8080/"
    },
    "id": "b00d1f82",
    "outputId": "0ea83c3b-8a45-412a-e381-b84e79aa2d6e"
   },
   "outputs": [
    {
     "name": "stdout",
     "output_type": "stream",
     "text": [
      "Model: \"sequential_1\"\n",
      "_________________________________________________________________\n",
      " Layer (type)                Output Shape              Param #   \n",
      "=================================================================\n",
      " embedding_1 (Embedding)     (None, 10, 10)            410       \n",
      "                                                                 \n",
      " lstm_1 (LSTM)               (None, 128)               71168     \n",
      "                                                                 \n",
      " dropout_1 (Dropout)         (None, 128)               0         \n",
      "                                                                 \n",
      " dense_1 (Dense)             (None, 41)                5289      \n",
      "                                                                 \n",
      " activation_1 (Activation)   (None, 41)                0         \n",
      "                                                                 \n",
      "=================================================================\n",
      "Total params: 76,867\n",
      "Trainable params: 76,867\n",
      "Non-trainable params: 0\n",
      "_________________________________________________________________\n"
     ]
    }
   ],
   "source": [
    "model = Sequential()\n",
    "model.add(Embedding(vocab_size,embedding_dim,input_length = SEQUENCE_LENGTH))\n",
    "model.add(LSTM(128))\n",
    "model.add(Dropout(0.5))\n",
    "model.add(Dense(vocab_size))\n",
    "model.add(Activation('softmax'))\n",
    "\n",
    "# optimizer = RMSprop(lr=0.01)\n",
    "\n",
    "model.compile(loss='categorical_crossentropy', optimizer='adam', metrics=['accuracy'])\n",
    "model.summary()\n"
   ]
  },
  {
   "cell_type": "code",
   "execution_count": 21,
   "id": "885cfca4",
   "metadata": {
    "colab": {
     "base_uri": "https://localhost:8080/"
    },
    "id": "885cfca4",
    "outputId": "03471060-44b9-49e6-fbd6-dcc6a596733c"
   },
   "outputs": [
    {
     "name": "stdout",
     "output_type": "stream",
     "text": [
      "Epoch 1/70\n",
      "8301/8301 [==============================] - 219s 26ms/step - loss: 2.7719 - accuracy: 0.1855 - val_loss: 2.4780 - val_accuracy: 0.2441\n",
      "Epoch 2/70\n",
      "8301/8301 [==============================] - 219s 26ms/step - loss: 2.4728 - accuracy: 0.2432 - val_loss: 2.3627 - val_accuracy: 0.2597\n",
      "Epoch 3/70\n",
      "8301/8301 [==============================] - 220s 27ms/step - loss: 2.3945 - accuracy: 0.2581 - val_loss: 2.2861 - val_accuracy: 0.2771\n",
      "Epoch 4/70\n",
      "8301/8301 [==============================] - 225s 27ms/step - loss: 2.3384 - accuracy: 0.2726 - val_loss: 2.2219 - val_accuracy: 0.2970\n",
      "Epoch 5/70\n",
      "8301/8301 [==============================] - 217s 26ms/step - loss: 2.2925 - accuracy: 0.2875 - val_loss: 2.1687 - val_accuracy: 0.3171\n",
      "Epoch 6/70\n",
      "8301/8301 [==============================] - 218s 26ms/step - loss: 2.2553 - accuracy: 0.3004 - val_loss: 2.1212 - val_accuracy: 0.3380\n",
      "Epoch 7/70\n",
      "8301/8301 [==============================] - 217s 26ms/step - loss: 2.2224 - accuracy: 0.3132 - val_loss: 2.0837 - val_accuracy: 0.3534\n",
      "Epoch 8/70\n",
      "8301/8301 [==============================] - 216s 26ms/step - loss: 2.1941 - accuracy: 0.3230 - val_loss: 2.0506 - val_accuracy: 0.3687\n",
      "Epoch 9/70\n",
      "8301/8301 [==============================] - 217s 26ms/step - loss: 2.1683 - accuracy: 0.3327 - val_loss: 2.0185 - val_accuracy: 0.3797\n",
      "Epoch 10/70\n",
      "8301/8301 [==============================] - 215s 26ms/step - loss: 2.1463 - accuracy: 0.3411 - val_loss: 1.9953 - val_accuracy: 0.3900\n",
      "Epoch 11/70\n",
      "8301/8301 [==============================] - 216s 26ms/step - loss: 2.1252 - accuracy: 0.3492 - val_loss: 1.9723 - val_accuracy: 0.3991\n",
      "Epoch 12/70\n",
      "8301/8301 [==============================] - 216s 26ms/step - loss: 2.1055 - accuracy: 0.3563 - val_loss: 1.9488 - val_accuracy: 0.4061\n",
      "Epoch 13/70\n",
      "8301/8301 [==============================] - 217s 26ms/step - loss: 2.0884 - accuracy: 0.3629 - val_loss: 1.9310 - val_accuracy: 0.4126\n",
      "Epoch 14/70\n",
      "8301/8301 [==============================] - 216s 26ms/step - loss: 2.0720 - accuracy: 0.3691 - val_loss: 1.9121 - val_accuracy: 0.4199\n",
      "Epoch 15/70\n",
      "8301/8301 [==============================] - 217s 26ms/step - loss: 2.0582 - accuracy: 0.3744 - val_loss: 1.8988 - val_accuracy: 0.4238\n",
      "Epoch 16/70\n",
      "8301/8301 [==============================] - 218s 26ms/step - loss: 2.0430 - accuracy: 0.3796 - val_loss: 1.8857 - val_accuracy: 0.4294\n",
      "Epoch 17/70\n",
      "8301/8301 [==============================] - 218s 26ms/step - loss: 2.0311 - accuracy: 0.3838 - val_loss: 1.8710 - val_accuracy: 0.4335\n",
      "Epoch 18/70\n",
      "8301/8301 [==============================] - 220s 26ms/step - loss: 2.0192 - accuracy: 0.3881 - val_loss: 1.8586 - val_accuracy: 0.4360\n",
      "Epoch 19/70\n",
      "8301/8301 [==============================] - 220s 26ms/step - loss: 2.0085 - accuracy: 0.3917 - val_loss: 1.8486 - val_accuracy: 0.4391\n",
      "Epoch 20/70\n",
      "8301/8301 [==============================] - 219s 26ms/step - loss: 1.9975 - accuracy: 0.3955 - val_loss: 1.8386 - val_accuracy: 0.4410\n",
      "Epoch 21/70\n",
      "8301/8301 [==============================] - 217s 26ms/step - loss: 1.9887 - accuracy: 0.3992 - val_loss: 1.8288 - val_accuracy: 0.4448\n",
      "Epoch 22/70\n",
      "8301/8301 [==============================] - 217s 26ms/step - loss: 1.9792 - accuracy: 0.4022 - val_loss: 1.8207 - val_accuracy: 0.4474\n",
      "Epoch 23/70\n",
      "8301/8301 [==============================] - 218s 26ms/step - loss: 1.9714 - accuracy: 0.4050 - val_loss: 1.8118 - val_accuracy: 0.4500\n",
      "Epoch 24/70\n",
      "8301/8301 [==============================] - 217s 26ms/step - loss: 1.9629 - accuracy: 0.4079 - val_loss: 1.8058 - val_accuracy: 0.4527\n",
      "Epoch 25/70\n",
      "8301/8301 [==============================] - 218s 26ms/step - loss: 1.9554 - accuracy: 0.4110 - val_loss: 1.7962 - val_accuracy: 0.4556\n",
      "Epoch 26/70\n",
      "8301/8301 [==============================] - 218s 26ms/step - loss: 1.9485 - accuracy: 0.4129 - val_loss: 1.7900 - val_accuracy: 0.4575\n",
      "Epoch 27/70\n",
      "8301/8301 [==============================] - 219s 26ms/step - loss: 1.9420 - accuracy: 0.4152 - val_loss: 1.7844 - val_accuracy: 0.4595\n",
      "Epoch 28/70\n",
      "8301/8301 [==============================] - 219s 26ms/step - loss: 1.9349 - accuracy: 0.4177 - val_loss: 1.7790 - val_accuracy: 0.4612\n",
      "Epoch 29/70\n",
      "8301/8301 [==============================] - 219s 26ms/step - loss: 1.9293 - accuracy: 0.4198 - val_loss: 1.7743 - val_accuracy: 0.4629\n",
      "Epoch 30/70\n",
      "8301/8301 [==============================] - 219s 26ms/step - loss: 1.9239 - accuracy: 0.4210 - val_loss: 1.7677 - val_accuracy: 0.4651\n",
      "Epoch 31/70\n",
      "8301/8301 [==============================] - 218s 26ms/step - loss: 1.9184 - accuracy: 0.4237 - val_loss: 1.7632 - val_accuracy: 0.4653\n",
      "Epoch 32/70\n",
      "8301/8301 [==============================] - 218s 26ms/step - loss: 1.9128 - accuracy: 0.4254 - val_loss: 1.7582 - val_accuracy: 0.4683\n",
      "Epoch 33/70\n",
      "8301/8301 [==============================] - 217s 26ms/step - loss: 1.9072 - accuracy: 0.4275 - val_loss: 1.7544 - val_accuracy: 0.4685\n",
      "Epoch 34/70\n",
      "8301/8301 [==============================] - 217s 26ms/step - loss: 1.9036 - accuracy: 0.4278 - val_loss: 1.7498 - val_accuracy: 0.4694\n",
      "Epoch 35/70\n",
      "8301/8301 [==============================] - 217s 26ms/step - loss: 1.8987 - accuracy: 0.4297 - val_loss: 1.7446 - val_accuracy: 0.4718\n",
      "Epoch 36/70\n",
      "8301/8301 [==============================] - 217s 26ms/step - loss: 1.8943 - accuracy: 0.4313 - val_loss: 1.7410 - val_accuracy: 0.4729\n",
      "Epoch 37/70\n",
      "8301/8301 [==============================] - 218s 26ms/step - loss: 1.8907 - accuracy: 0.4324 - val_loss: 1.7375 - val_accuracy: 0.4733\n",
      "Epoch 38/70\n",
      "8301/8301 [==============================] - 218s 26ms/step - loss: 1.8860 - accuracy: 0.4340 - val_loss: 1.7345 - val_accuracy: 0.4743\n",
      "Epoch 39/70\n",
      "8301/8301 [==============================] - 218s 26ms/step - loss: 1.8821 - accuracy: 0.4353 - val_loss: 1.7307 - val_accuracy: 0.4763\n",
      "Epoch 40/70\n",
      "8301/8301 [==============================] - 218s 26ms/step - loss: 1.8782 - accuracy: 0.4366 - val_loss: 1.7283 - val_accuracy: 0.4772\n",
      "Epoch 41/70\n",
      "8301/8301 [==============================] - 219s 26ms/step - loss: 1.8748 - accuracy: 0.4379 - val_loss: 1.7253 - val_accuracy: 0.4786\n",
      "Epoch 42/70\n",
      "8301/8301 [==============================] - 218s 26ms/step - loss: 1.8710 - accuracy: 0.4389 - val_loss: 1.7228 - val_accuracy: 0.4791\n",
      "Epoch 43/70\n",
      "8301/8301 [==============================] - 218s 26ms/step - loss: 1.8672 - accuracy: 0.4403 - val_loss: 1.7186 - val_accuracy: 0.4798\n",
      "Epoch 44/70\n",
      "8301/8301 [==============================] - 219s 26ms/step - loss: 1.8645 - accuracy: 0.4406 - val_loss: 1.7162 - val_accuracy: 0.4796\n",
      "Epoch 45/70\n",
      "8301/8301 [==============================] - 218s 26ms/step - loss: 1.8609 - accuracy: 0.4418 - val_loss: 1.7126 - val_accuracy: 0.4827\n",
      "Epoch 46/70\n",
      "8301/8301 [==============================] - 217s 26ms/step - loss: 1.8582 - accuracy: 0.4433 - val_loss: 1.7115 - val_accuracy: 0.4812\n",
      "Epoch 47/70\n",
      "8301/8301 [==============================] - 218s 26ms/step - loss: 1.8553 - accuracy: 0.4439 - val_loss: 1.7093 - val_accuracy: 0.4817\n",
      "Epoch 48/70\n",
      "8301/8301 [==============================] - 218s 26ms/step - loss: 1.8515 - accuracy: 0.4448 - val_loss: 1.7052 - val_accuracy: 0.4842\n",
      "Epoch 49/70\n",
      "8301/8301 [==============================] - 217s 26ms/step - loss: 1.8492 - accuracy: 0.4460 - val_loss: 1.7041 - val_accuracy: 0.4855\n",
      "Epoch 50/70\n",
      "8301/8301 [==============================] - 217s 26ms/step - loss: 1.8466 - accuracy: 0.4469 - val_loss: 1.7010 - val_accuracy: 0.4861\n",
      "Epoch 51/70\n",
      "8301/8301 [==============================] - 218s 26ms/step - loss: 1.8444 - accuracy: 0.4470 - val_loss: 1.7011 - val_accuracy: 0.4876\n",
      "Epoch 52/70\n",
      "8301/8301 [==============================] - 218s 26ms/step - loss: 1.8418 - accuracy: 0.4480 - val_loss: 1.6956 - val_accuracy: 0.4888\n",
      "Epoch 53/70\n",
      "8301/8301 [==============================] - 218s 26ms/step - loss: 1.8397 - accuracy: 0.4490 - val_loss: 1.6960 - val_accuracy: 0.4889\n",
      "Epoch 54/70\n",
      "8301/8301 [==============================] - 220s 26ms/step - loss: 1.8370 - accuracy: 0.4498 - val_loss: 1.6930 - val_accuracy: 0.4892\n",
      "Epoch 55/70\n",
      "8301/8301 [==============================] - 219s 26ms/step - loss: 1.8346 - accuracy: 0.4510 - val_loss: 1.6935 - val_accuracy: 0.4895\n",
      "Epoch 56/70\n",
      "8301/8301 [==============================] - 219s 26ms/step - loss: 1.8331 - accuracy: 0.4516 - val_loss: 1.6896 - val_accuracy: 0.4904\n",
      "Epoch 57/70\n",
      "8301/8301 [==============================] - 219s 26ms/step - loss: 1.8302 - accuracy: 0.4523 - val_loss: 1.6887 - val_accuracy: 0.4898\n",
      "Epoch 58/70\n",
      "8301/8301 [==============================] - 219s 26ms/step - loss: 1.8284 - accuracy: 0.4524 - val_loss: 1.6868 - val_accuracy: 0.4914\n",
      "Epoch 59/70\n",
      "8301/8301 [==============================] - 219s 26ms/step - loss: 1.8259 - accuracy: 0.4537 - val_loss: 1.6853 - val_accuracy: 0.4924\n",
      "Epoch 60/70\n",
      "8301/8301 [==============================] - 218s 26ms/step - loss: 1.8247 - accuracy: 0.4544 - val_loss: 1.6842 - val_accuracy: 0.4919\n",
      "Epoch 61/70\n",
      "8301/8301 [==============================] - 218s 26ms/step - loss: 1.8225 - accuracy: 0.4545 - val_loss: 1.6818 - val_accuracy: 0.4932\n",
      "Epoch 62/70\n",
      "8301/8301 [==============================] - 218s 26ms/step - loss: 1.8213 - accuracy: 0.4552 - val_loss: 1.6806 - val_accuracy: 0.4940\n",
      "Epoch 63/70\n",
      "8301/8301 [==============================] - 218s 26ms/step - loss: 1.8180 - accuracy: 0.4557 - val_loss: 1.6799 - val_accuracy: 0.4929\n",
      "Epoch 64/70\n",
      "8301/8301 [==============================] - 219s 26ms/step - loss: 1.8170 - accuracy: 0.4563 - val_loss: 1.6772 - val_accuracy: 0.4944\n",
      "Epoch 65/70\n",
      "8301/8301 [==============================] - 218s 26ms/step - loss: 1.8152 - accuracy: 0.4569 - val_loss: 1.6765 - val_accuracy: 0.4955\n",
      "Epoch 66/70\n",
      "8301/8301 [==============================] - 219s 26ms/step - loss: 1.8132 - accuracy: 0.4573 - val_loss: 1.6757 - val_accuracy: 0.4959\n",
      "Epoch 67/70\n",
      "8301/8301 [==============================] - 219s 26ms/step - loss: 1.8120 - accuracy: 0.4583 - val_loss: 1.6739 - val_accuracy: 0.4965\n",
      "Epoch 68/70\n",
      "8301/8301 [==============================] - 217s 26ms/step - loss: 1.8098 - accuracy: 0.4583 - val_loss: 1.6732 - val_accuracy: 0.4964\n",
      "Epoch 69/70\n",
      "8301/8301 [==============================] - 218s 26ms/step - loss: 1.8076 - accuracy: 0.4590 - val_loss: 1.6706 - val_accuracy: 0.4979\n",
      "Epoch 70/70\n",
      "8301/8301 [==============================] - 218s 26ms/step - loss: 1.8070 - accuracy: 0.4600 - val_loss: 1.6712 - val_accuracy: 0.4971\n"
     ]
    }
   ],
   "source": [
    "model.optimizer.lr=0.0001\n",
    "history = model.fit(x, y, validation_split=0.05, batch_size=128, epochs=70, shuffle=True).history"
   ]
  },
  {
   "cell_type": "code",
   "execution_count": 22,
   "id": "d6290813",
   "metadata": {
    "id": "d6290813"
   },
   "outputs": [],
   "source": [
    "import matplotlib.pyplot as plt"
   ]
  },
  {
   "cell_type": "code",
   "execution_count": 23,
   "id": "678dd785",
   "metadata": {
    "colab": {
     "base_uri": "https://localhost:8080/",
     "height": 295
    },
    "id": "678dd785",
    "outputId": "8a900b36-4af2-433a-f9d0-ee7f7cd7818c"
   },
   "outputs": [
    {
     "data": {
      "text/plain": [
       "<matplotlib.legend.Legend at 0x7f1a4477e050>"
      ]
     },
     "execution_count": 23,
     "metadata": {},
     "output_type": "execute_result"
    },
    {
     "data": {
      "image/png": "[encoded data removed]",
      "text/plain": [
       "<Figure size 432x288 with 1 Axes>"
      ]
     },
     "metadata": {
      "needs_background": "light"
     },
     "output_type": "display_data"
    }
   ],
   "source": [
    "plt.plot(history['loss'])\n",
    "plt.plot(history['val_loss'])\n",
    "plt.title('Model loss')\n",
    "plt.xlabel('epoch')\n",
    "plt.ylabel('loss')\n",
    "plt.legend(['loss','validation loss'])\n",
    "#plt.savefig(\"100epochs_lr1e-1_seq40_embedding.png\")"
   ]
  },
  {
   "cell_type": "code",
   "execution_count": 24,
   "id": "b7d8f76f",
   "metadata": {
    "colab": {
     "base_uri": "https://localhost:8080/",
     "height": 295
    },
    "id": "b7d8f76f",
    "outputId": "06f79437-5cec-47b3-b01f-efe5be2f61c7"
   },
   "outputs": [
    {
     "data": {
      "text/plain": [
       "<matplotlib.legend.Legend at 0x7f1a447e5d50>"
      ]
     },
     "execution_count": 24,
     "metadata": {},
     "output_type": "execute_result"
    },
    {
     "data": {
      "image/png": "[encoded data removed]",
      "text/plain": [
       "<Figure size 432x288 with 1 Axes>"
      ]
     },
     "metadata": {
      "needs_background": "light"
     },
     "output_type": "display_data"
    }
   ],
   "source": [
    "plt.plot(history['accuracy'])\n",
    "plt.plot(history['val_accuracy'])\n",
    "plt.title('Model Accuracy')\n",
    "plt.xlabel('epoch')\n",
    "plt.ylabel('accuracy')\n",
    "plt.legend(['accuracy','validation accuracy'])\n",
    "#plt.savefig(\"100epochs_lr1e-1_accuracy_seq40_embedding.png\")"
   ]
  },
  {
   "cell_type": "code",
   "execution_count": 25,
   "id": "8fa7bbd6",
   "metadata": {},
   "outputs": [
    {
     "name": "stderr",
     "output_type": "stream",
     "text": [
      "WARNING:absl:Found untraced functions such as lstm_cell_1_layer_call_fn, lstm_cell_1_layer_call_and_return_conditional_losses while saving (showing 2 of 2). These functions will not be directly callable after loading.\n"
     ]
    },
    {
     "name": "stdout",
     "output_type": "stream",
     "text": [
      "INFO:tensorflow:Assets written to: ram://5f94e628-453f-44cb-9f42-a666ae051bad/assets\n"
     ]
    },
    {
     "name": "stderr",
     "output_type": "stream",
     "text": [
      "INFO:tensorflow:Assets written to: ram://5f94e628-453f-44cb-9f42-a666ae051bad/assets\n"
     ]
    }
   ],
   "source": [
    "model_file = \"LSTM_embeddinglayer_dropout50_epochs70_final.dat\"\n",
    "mf = open(model_file, 'wb')\n",
    "pickle.dump(model, mf)"
   ]
  }
 ],
 "metadata": {
  "accelerator": "GPU",
  "colab": {
   "provenance": []
  },
  "gpuClass": "standard",
  "kernelspec": {
   "display_name": "Python 3 (ipykernel)",
   "language": "python",
   "name": "python3"
  },
  "language_info": {
   "codemirror_mode": {
    "name": "ipython",
    "version": 3
   },
   "file_extension": ".py",
   "mimetype": "text/x-python",
   "name": "python",
   "nbconvert_exporter": "python",
   "pygments_lexer": "ipython3",
   "version": "3.9.7"
  }
 },
 "nbformat": 4,
 "nbformat_minor": 5
}
