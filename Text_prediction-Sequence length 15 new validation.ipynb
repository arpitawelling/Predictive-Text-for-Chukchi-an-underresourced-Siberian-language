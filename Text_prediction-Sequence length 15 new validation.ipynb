{
 "cells": [
  {
   "cell_type": "code",
   "execution_count": 2,
   "metadata": {
    "colab": {
     "base_uri": "https://localhost:8080/"
    },
    "id": "xhYJktdtoX93",
    "outputId": "3d890047-db33-4788-a4a8-1c8457c72ac2"
   },
   "outputs": [
    {
     "name": "stdout",
     "output_type": "stream",
     "text": [
      "SYS 3.10.2 (main, Mar 16 2022, 10:43:30) [GCC 4.8.5 20150623 (Red Hat 4.8.5-44)]\n",
      "2.10.0\n"
     ]
    }
   ],
   "source": [
    "import sys\n",
    "print(\"SYS\",sys.version)\n",
    "import numpy as np\n",
    "import keras\n",
    "import tensorflow as tf\n",
    "print(tf.__version__)\n",
    "\n",
    "# tf.set_random_seed(42)\n",
    "import keras.backend as K\n",
    "from tensorflow.keras.models import Sequential, load_model\n",
    "from tensorflow.keras.layers import Dense, Activation\n",
    "from tensorflow.keras.layers import LSTM, Dropout\n",
    "from tensorflow.keras.layers import TimeDistributed\n",
    "from tensorflow.keras.layers import Dense, Activation, Dropout, RepeatVector\n",
    "# from tf.keras.optimizers import RMSprop\n",
    "import matplotlib.pyplot as plt\n",
    "import pickle"
   ]
  },
  {
   "cell_type": "code",
   "execution_count": 3,
   "metadata": {
    "colab": {
     "base_uri": "https://localhost:8080/"
    },
    "id": "9of8_QVjovcq",
    "outputId": "333f22f3-ca51-40e2-bcd1-9d4c319570bc"
   },
   "outputs": [
    {
     "name": "stdout",
     "output_type": "stream",
     "text": [
      "{'т', 'у', 'ԓ', 'е', 'а', 'ь', 'и', 'к', ' ', 'ʼ', 'ы', 'ё', 'щ', 'о', 'ӄ', 'э', 'н', 'п', 'б', 'я', 'ф', 'ш', 'ж', 'с', 'ю', 'ц', 'й', 'ӈ', 'г', 'д', 'қ', 'з', 'в', 'ң', '’', 'р', 'ъ', 'м', 'х', 'ч'}\n",
      "[' ', 'ʼ', 'а', 'б', 'в', 'г', 'д', 'е', 'ж', 'з', 'и', 'й', 'к', 'м', 'н', 'о', 'п', 'р', 'с', 'т', 'у', 'ф', 'х', 'ц', 'ч', 'ш', 'щ', 'ъ', 'ы', 'ь', 'э', 'ю', 'я', 'ё', 'қ', 'ң', 'ӄ', 'ӈ', 'ԓ', '’']\n",
      "{' ': 0, 'ʼ': 1, 'а': 2, 'б': 3, 'в': 4, 'г': 5, 'д': 6, 'е': 7, 'ж': 8, 'з': 9, 'и': 10, 'й': 11, 'к': 12, 'м': 13, 'н': 14, 'о': 15, 'п': 16, 'р': 17, 'с': 18, 'т': 19, 'у': 20, 'ф': 21, 'х': 22, 'ц': 23, 'ч': 24, 'ш': 25, 'щ': 26, 'ъ': 27, 'ы': 28, 'ь': 29, 'э': 30, 'ю': 31, 'я': 32, 'ё': 33, 'қ': 34, 'ң': 35, 'ӄ': 36, 'ӈ': 37, 'ԓ': 38, '’': 39}\n",
      "{0: ' ', 1: 'ʼ', 2: 'а', 3: 'б', 4: 'в', 5: 'г', 6: 'д', 7: 'е', 8: 'ж', 9: 'з', 10: 'и', 11: 'й', 12: 'к', 13: 'м', 14: 'н', 15: 'о', 16: 'п', 17: 'р', 18: 'с', 19: 'т', 20: 'у', 21: 'ф', 22: 'х', 23: 'ц', 24: 'ч', 25: 'ш', 26: 'щ', 27: 'ъ', 28: 'ы', 29: 'ь', 30: 'э', 31: 'ю', 32: 'я', 33: 'ё', 34: 'қ', 35: 'ң', 36: 'ӄ', 37: 'ӈ', 38: 'ԓ', 39: '’'}\n",
      "кэваратэн таа’к\n",
      "о\n",
      "[[[0 0 1 ... 0 0 0]\n",
      "  [0 0 0 ... 0 0 0]\n",
      "  [0 0 1 ... 0 0 0]\n",
      "  ...\n",
      "  [0 0 0 ... 0 0 0]\n",
      "  [0 0 0 ... 0 0 0]\n",
      "  [0 0 0 ... 0 0 0]]\n",
      "\n",
      " [[0 0 0 ... 0 0 0]\n",
      "  [0 0 1 ... 0 0 0]\n",
      "  [0 0 0 ... 0 0 0]\n",
      "  ...\n",
      "  [1 0 0 ... 0 0 0]\n",
      "  [0 0 0 ... 0 0 0]\n",
      "  [0 0 1 ... 0 0 0]]\n",
      "\n",
      " [[0 0 0 ... 0 0 0]\n",
      "  [0 0 0 ... 0 0 0]\n",
      "  [0 0 0 ... 0 0 0]\n",
      "  ...\n",
      "  [0 0 1 ... 0 0 0]\n",
      "  [0 0 0 ... 0 0 1]\n",
      "  [0 0 0 ... 0 0 0]]\n",
      "\n",
      " ...\n",
      "\n",
      " [[0 0 0 ... 0 0 0]\n",
      "  [0 0 0 ... 0 0 0]\n",
      "  [1 0 0 ... 0 0 0]\n",
      "  ...\n",
      "  [0 0 0 ... 0 0 0]\n",
      "  [0 0 0 ... 0 0 0]\n",
      "  [0 0 0 ... 0 0 0]]\n",
      "\n",
      " [[0 0 0 ... 0 0 0]\n",
      "  [0 0 0 ... 0 0 0]\n",
      "  [0 0 0 ... 0 0 0]\n",
      "  ...\n",
      "  [0 0 0 ... 0 0 0]\n",
      "  [0 0 0 ... 0 0 0]\n",
      "  [1 0 0 ... 0 0 0]]\n",
      "\n",
      " [[0 0 0 ... 0 0 0]\n",
      "  [0 0 0 ... 0 0 0]\n",
      "  [1 0 0 ... 0 0 0]\n",
      "  ...\n",
      "  [0 0 0 ... 0 0 0]\n",
      "  [0 0 0 ... 0 0 0]\n",
      "  [0 0 0 ... 0 0 0]]]\n",
      "[[1 0 0 ... 0 0 0]\n",
      " [0 0 1 ... 0 0 0]\n",
      " [0 0 0 ... 0 0 0]\n",
      " ...\n",
      " [0 0 0 ... 0 0 0]\n",
      " [0 0 0 ... 0 0 0]\n",
      " [0 0 0 ... 0 0 0]]\n",
      "372779\n",
      "кэваратэн таа’к\n",
      "о\n"
     ]
    }
   ],
   "source": [
    "# This is the training data\n",
    "#training_file = sys.argv[1]\n",
    "training_file =\"train.tsv\"\n",
    "# This is the filename that we will save the model in\n",
    "#model_file = sys.argv[2]\n",
    "model_file = \"model3_seq15.dat\"\n",
    "\n",
    "corpus = \"\"\n",
    "for line in open(training_file).readlines():\n",
    "\n",
    "\t# Each line in the training data is two columns\n",
    "\t# тыкгаткэта ивнин риӄукэтэ\tты>кгат>кэ>та ив>ни>н риӄукэ>тэ\n",
    "\t# print(\"line\",line)\n",
    "\trow = line.strip().split('\\t')\n",
    "\t# print(\"row\", row)\n",
    "\t# The tokens are in the first column\n",
    "\ttokens = row[0]\n",
    "\t# print(tokens)\n",
    "\t# print(\"tokens\", tokens)\n",
    "\t# Add the tokens to the list of sentences, with a beginning of sentence and an end of sentence marker\n",
    "\t# if len(corpus)==0:\n",
    "\n",
    "\tcorpus+=tokens\n",
    "\t# else:\n",
    "\t# \tcorpus.extend(tokens)\n",
    "\n",
    "print(set(corpus))\n",
    "chars = sorted(list(set(corpus)))\n",
    "print(chars)\n",
    "char_index = dict((c,i) for i,c in enumerate(chars))\n",
    "index_char = dict((i,c) for i,c in enumerate(chars))\n",
    "print(char_index)\n",
    "print(index_char)\n",
    "\n",
    "SEQUENCE_LENGTH = 15\n",
    "step = 3\n",
    "sentences = []\n",
    "next_chars = []\n",
    "for i in range(0, len(corpus) - SEQUENCE_LENGTH, step):\n",
    "    sentences.append(corpus[i: i + SEQUENCE_LENGTH])\n",
    "    next_chars.append(corpus[i + SEQUENCE_LENGTH])\n",
    "\n",
    "print(sentences[2])\n",
    "print(next_chars[2])\n",
    "X=np.zeros((len(sentences),SEQUENCE_LENGTH,len(chars)), dtype = int)\n",
    "Y=np.zeros((len(sentences),len(chars)), dtype = int)\n",
    "\n",
    "for i, sentence in enumerate(sentences):\n",
    "    for t, char in enumerate(sentence):\n",
    "        X[i, t, char_index[char]] = 1\n",
    "    Y[i, char_index[next_chars[i]]] = 1\n",
    "\n",
    "print(X)\n",
    "print(Y)\n",
    "print(len(X))\n",
    "print(sentences[2])\n",
    "print(next_chars[2])"
   ]
  },
  {
   "cell_type": "code",
   "execution_count": 17,
   "metadata": {
    "colab": {
     "base_uri": "https://localhost:8080/",
     "height": 641
    },
    "id": "Eu1xK2-KqQSb",
    "outputId": "6267885c-592d-428b-8ad2-38c9b3e24e87"
   },
   "outputs": [
    {
     "name": "stdout",
     "output_type": "stream",
     "text": [
      "Epoch 1/100\n",
      "2767/2767 [==============================] - 111s 38ms/step - loss: 2.9451 - accuracy: 0.1558 - val_loss: 2.7211 - val_accuracy: 0.2343\n",
      "Epoch 2/100\n",
      "2767/2767 [==============================] - 101s 37ms/step - loss: 2.5872 - accuracy: 0.2336 - val_loss: 2.4733 - val_accuracy: 0.2488\n",
      "Epoch 3/100\n",
      "2767/2767 [==============================] - 102s 37ms/step - loss: 2.4476 - accuracy: 0.2536 - val_loss: 2.3797 - val_accuracy: 0.2663\n",
      "Epoch 4/100\n",
      "2767/2767 [==============================] - 102s 37ms/step - loss: 2.3789 - accuracy: 0.2657 - val_loss: 2.3252 - val_accuracy: 0.2799\n",
      "Epoch 5/100\n",
      "2767/2767 [==============================] - 102s 37ms/step - loss: 2.3293 - accuracy: 0.2782 - val_loss: 2.2709 - val_accuracy: 0.2942\n",
      "Epoch 6/100\n",
      "2767/2767 [==============================] - 102s 37ms/step - loss: 2.2846 - accuracy: 0.2908 - val_loss: 2.2226 - val_accuracy: 0.3040\n",
      "Epoch 7/100\n",
      "2767/2767 [==============================] - 102s 37ms/step - loss: 2.2434 - accuracy: 0.3036 - val_loss: 2.1845 - val_accuracy: 0.3208\n",
      "Epoch 8/100\n",
      "2767/2767 [==============================] - 102s 37ms/step - loss: 2.2060 - accuracy: 0.3172 - val_loss: 2.1540 - val_accuracy: 0.3345\n",
      "Epoch 9/100\n",
      "2767/2767 [==============================] - 102s 37ms/step - loss: 2.1721 - accuracy: 0.3293 - val_loss: 2.1138 - val_accuracy: 0.3451\n",
      "Epoch 10/100\n",
      "2767/2767 [==============================] - 103s 37ms/step - loss: 2.1404 - accuracy: 0.3407 - val_loss: 2.0799 - val_accuracy: 0.3580\n",
      "Epoch 11/100\n",
      "2767/2767 [==============================] - 102s 37ms/step - loss: 2.1103 - accuracy: 0.3506 - val_loss: 2.0519 - val_accuracy: 0.3689\n",
      "Epoch 12/100\n",
      "2767/2767 [==============================] - 101s 37ms/step - loss: 2.0819 - accuracy: 0.3608 - val_loss: 2.0247 - val_accuracy: 0.3778\n",
      "Epoch 13/100\n",
      "2767/2767 [==============================] - 102s 37ms/step - loss: 2.0550 - accuracy: 0.3703 - val_loss: 1.9983 - val_accuracy: 0.3855\n",
      "Epoch 14/100\n",
      "2767/2767 [==============================] - 102s 37ms/step - loss: 2.0300 - accuracy: 0.3798 - val_loss: 1.9737 - val_accuracy: 0.3930\n",
      "Epoch 15/100\n",
      "2767/2767 [==============================] - 101s 37ms/step - loss: 2.0061 - accuracy: 0.3881 - val_loss: 1.9550 - val_accuracy: 0.4021\n",
      "Epoch 16/100\n",
      "2767/2767 [==============================] - 101s 37ms/step - loss: 1.9836 - accuracy: 0.3963 - val_loss: 1.9303 - val_accuracy: 0.4120\n",
      "Epoch 17/100\n",
      "2767/2767 [==============================] - 101s 37ms/step - loss: 1.9627 - accuracy: 0.4043 - val_loss: 1.9156 - val_accuracy: 0.4183\n",
      "Epoch 18/100\n",
      "2767/2767 [==============================] - 101s 37ms/step - loss: 1.9429 - accuracy: 0.4113 - val_loss: 1.8966 - val_accuracy: 0.4241\n",
      "Epoch 19/100\n",
      "2767/2767 [==============================] - 102s 37ms/step - loss: 1.9243 - accuracy: 0.4179 - val_loss: 1.8810 - val_accuracy: 0.4290\n",
      "Epoch 20/100\n",
      "2767/2767 [==============================] - 102s 37ms/step - loss: 1.9066 - accuracy: 0.4232 - val_loss: 1.8678 - val_accuracy: 0.4336\n",
      "Epoch 21/100\n",
      "2767/2767 [==============================] - 103s 37ms/step - loss: 1.8899 - accuracy: 0.4287 - val_loss: 1.8528 - val_accuracy: 0.4367\n",
      "Epoch 22/100\n",
      "2767/2767 [==============================] - 103s 37ms/step - loss: 1.8743 - accuracy: 0.4339 - val_loss: 1.8386 - val_accuracy: 0.4435\n",
      "Epoch 23/100\n",
      "2767/2767 [==============================] - 103s 37ms/step - loss: 1.8594 - accuracy: 0.4398 - val_loss: 1.8292 - val_accuracy: 0.4480\n",
      "Epoch 24/100\n",
      "2767/2767 [==============================] - 103s 37ms/step - loss: 1.8452 - accuracy: 0.4437 - val_loss: 1.8192 - val_accuracy: 0.4494\n",
      "Epoch 25/100\n",
      "2767/2767 [==============================] - 103s 37ms/step - loss: 1.8317 - accuracy: 0.4482 - val_loss: 1.8117 - val_accuracy: 0.4528\n",
      "Epoch 26/100\n",
      "2767/2767 [==============================] - 103s 37ms/step - loss: 1.8188 - accuracy: 0.4525 - val_loss: 1.7957 - val_accuracy: 0.4591\n",
      "Epoch 27/100\n",
      "2767/2767 [==============================] - 103s 37ms/step - loss: 1.8066 - accuracy: 0.4566 - val_loss: 1.7926 - val_accuracy: 0.4620\n",
      "Epoch 28/100\n",
      "2767/2767 [==============================] - 103s 37ms/step - loss: 1.7948 - accuracy: 0.4605 - val_loss: 1.7783 - val_accuracy: 0.4652\n",
      "Epoch 29/100\n",
      "2767/2767 [==============================] - 103s 37ms/step - loss: 1.7837 - accuracy: 0.4639 - val_loss: 1.7766 - val_accuracy: 0.4639\n",
      "Epoch 30/100\n",
      "2767/2767 [==============================] - 103s 37ms/step - loss: 1.7729 - accuracy: 0.4671 - val_loss: 1.7707 - val_accuracy: 0.4653\n",
      "Epoch 31/100\n",
      "2767/2767 [==============================] - 103s 37ms/step - loss: 1.7623 - accuracy: 0.4707 - val_loss: 1.7579 - val_accuracy: 0.4722\n",
      "Epoch 32/100\n",
      "2767/2767 [==============================] - 104s 37ms/step - loss: 1.7524 - accuracy: 0.4736 - val_loss: 1.7512 - val_accuracy: 0.4740\n",
      "Epoch 33/100\n",
      "2767/2767 [==============================] - 103s 37ms/step - loss: 1.7429 - accuracy: 0.4764 - val_loss: 1.7473 - val_accuracy: 0.4730\n",
      "Epoch 34/100\n",
      "2767/2767 [==============================] - 104s 37ms/step - loss: 1.7338 - accuracy: 0.4794 - val_loss: 1.7440 - val_accuracy: 0.4756\n",
      "Epoch 35/100\n",
      "2767/2767 [==============================] - 103s 37ms/step - loss: 1.7247 - accuracy: 0.4825 - val_loss: 1.7360 - val_accuracy: 0.4772\n",
      "Epoch 36/100\n",
      "2767/2767 [==============================] - 103s 37ms/step - loss: 1.7163 - accuracy: 0.4849 - val_loss: 1.7325 - val_accuracy: 0.4780\n",
      "Epoch 37/100\n",
      "2767/2767 [==============================] - 103s 37ms/step - loss: 1.7080 - accuracy: 0.4875 - val_loss: 1.7272 - val_accuracy: 0.4800\n",
      "Epoch 38/100\n",
      "2767/2767 [==============================] - 103s 37ms/step - loss: 1.6998 - accuracy: 0.4901 - val_loss: 1.7282 - val_accuracy: 0.4822\n",
      "Epoch 39/100\n",
      "2767/2767 [==============================] - 103s 37ms/step - loss: 1.6921 - accuracy: 0.4929 - val_loss: 1.7164 - val_accuracy: 0.4868\n",
      "Epoch 40/100\n",
      "2767/2767 [==============================] - 102s 37ms/step - loss: 1.6845 - accuracy: 0.4951 - val_loss: 1.7149 - val_accuracy: 0.4858\n",
      "Epoch 41/100\n",
      "2767/2767 [==============================] - 103s 37ms/step - loss: 1.6770 - accuracy: 0.4971 - val_loss: 1.7118 - val_accuracy: 0.4877\n",
      "Epoch 42/100\n",
      "2767/2767 [==============================] - 103s 37ms/step - loss: 1.6699 - accuracy: 0.4995 - val_loss: 1.7085 - val_accuracy: 0.4891\n",
      "Epoch 43/100\n",
      "2767/2767 [==============================] - 103s 37ms/step - loss: 1.6629 - accuracy: 0.5016 - val_loss: 1.7041 - val_accuracy: 0.4880\n",
      "Epoch 44/100\n",
      "2767/2767 [==============================] - 103s 37ms/step - loss: 1.6562 - accuracy: 0.5036 - val_loss: 1.7000 - val_accuracy: 0.4913\n",
      "Epoch 45/100\n",
      "2767/2767 [==============================] - 103s 37ms/step - loss: 1.6496 - accuracy: 0.5056 - val_loss: 1.6981 - val_accuracy: 0.4912\n",
      "Epoch 46/100\n",
      "2767/2767 [==============================] - 103s 37ms/step - loss: 1.6429 - accuracy: 0.5073 - val_loss: 1.6938 - val_accuracy: 0.4951\n",
      "Epoch 47/100\n",
      "2767/2767 [==============================] - 103s 37ms/step - loss: 1.6368 - accuracy: 0.5092 - val_loss: 1.6912 - val_accuracy: 0.4936\n",
      "Epoch 48/100\n",
      "2767/2767 [==============================] - 102s 37ms/step - loss: 1.6303 - accuracy: 0.5114 - val_loss: 1.6902 - val_accuracy: 0.4977\n",
      "Epoch 49/100\n",
      "2767/2767 [==============================] - 103s 37ms/step - loss: 1.6244 - accuracy: 0.5128 - val_loss: 1.6876 - val_accuracy: 0.4955\n",
      "Epoch 50/100\n",
      "2767/2767 [==============================] - 102s 37ms/step - loss: 1.6185 - accuracy: 0.5150 - val_loss: 1.6874 - val_accuracy: 0.4961\n",
      "Epoch 51/100\n",
      "2767/2767 [==============================] - 103s 37ms/step - loss: 1.6126 - accuracy: 0.5168 - val_loss: 1.6852 - val_accuracy: 0.4973\n",
      "Epoch 52/100\n",
      "2767/2767 [==============================] - 102s 37ms/step - loss: 1.6070 - accuracy: 0.5184 - val_loss: 1.6830 - val_accuracy: 0.5000\n",
      "Epoch 53/100\n",
      "2767/2767 [==============================] - 103s 37ms/step - loss: 1.6015 - accuracy: 0.5199 - val_loss: 1.6817 - val_accuracy: 0.4996\n",
      "Epoch 54/100\n",
      "2767/2767 [==============================] - 103s 37ms/step - loss: 1.5960 - accuracy: 0.5216 - val_loss: 1.6819 - val_accuracy: 0.4995\n",
      "Epoch 55/100\n",
      "2767/2767 [==============================] - 102s 37ms/step - loss: 1.5905 - accuracy: 0.5230 - val_loss: 1.6786 - val_accuracy: 0.4991\n",
      "Epoch 56/100\n"
     ]
    },
    {
     "name": "stdout",
     "output_type": "stream",
     "text": [
      "2767/2767 [==============================] - 102s 37ms/step - loss: 1.5853 - accuracy: 0.5245 - val_loss: 1.6795 - val_accuracy: 0.5000\n",
      "Epoch 57/100\n",
      "2767/2767 [==============================] - 102s 37ms/step - loss: 1.5801 - accuracy: 0.5262 - val_loss: 1.6755 - val_accuracy: 0.5016\n",
      "Epoch 58/100\n",
      "2767/2767 [==============================] - 103s 37ms/step - loss: 1.5751 - accuracy: 0.5271 - val_loss: 1.6700 - val_accuracy: 0.5046\n",
      "Epoch 59/100\n",
      "2767/2767 [==============================] - 103s 37ms/step - loss: 1.5702 - accuracy: 0.5290 - val_loss: 1.6715 - val_accuracy: 0.5049\n",
      "Epoch 60/100\n",
      "2767/2767 [==============================] - 104s 37ms/step - loss: 1.5650 - accuracy: 0.5306 - val_loss: 1.6710 - val_accuracy: 0.5056\n",
      "Epoch 61/100\n",
      "2767/2767 [==============================] - 103s 37ms/step - loss: 1.5603 - accuracy: 0.5320 - val_loss: 1.6735 - val_accuracy: 0.5019\n",
      "Epoch 62/100\n",
      "2767/2767 [==============================] - 103s 37ms/step - loss: 1.5554 - accuracy: 0.5333 - val_loss: 1.6724 - val_accuracy: 0.5027\n",
      "Epoch 63/100\n",
      "2767/2767 [==============================] - 103s 37ms/step - loss: 1.5509 - accuracy: 0.5347 - val_loss: 1.6678 - val_accuracy: 0.5039\n",
      "Epoch 64/100\n",
      "2767/2767 [==============================] - 104s 38ms/step - loss: 1.5461 - accuracy: 0.5361 - val_loss: 1.6671 - val_accuracy: 0.5031\n",
      "Epoch 65/100\n",
      "2767/2767 [==============================] - 103s 37ms/step - loss: 1.5416 - accuracy: 0.5375 - val_loss: 1.6689 - val_accuracy: 0.5063\n",
      "Epoch 66/100\n",
      "2767/2767 [==============================] - 103s 37ms/step - loss: 1.5369 - accuracy: 0.5390 - val_loss: 1.6668 - val_accuracy: 0.5049\n",
      "Epoch 67/100\n",
      "2767/2767 [==============================] - 103s 37ms/step - loss: 1.5327 - accuracy: 0.5397 - val_loss: 1.6658 - val_accuracy: 0.5071\n",
      "Epoch 68/100\n",
      "2767/2767 [==============================] - 104s 38ms/step - loss: 1.5280 - accuracy: 0.5413 - val_loss: 1.6691 - val_accuracy: 0.5042\n",
      "Epoch 69/100\n",
      "2767/2767 [==============================] - 103s 37ms/step - loss: 1.5239 - accuracy: 0.5425 - val_loss: 1.6668 - val_accuracy: 0.5088\n",
      "Epoch 70/100\n",
      "2767/2767 [==============================] - 103s 37ms/step - loss: 1.5194 - accuracy: 0.5444 - val_loss: 1.6698 - val_accuracy: 0.5058\n",
      "Epoch 71/100\n",
      "2767/2767 [==============================] - 104s 38ms/step - loss: 1.5154 - accuracy: 0.5445 - val_loss: 1.6626 - val_accuracy: 0.5086\n",
      "Epoch 72/100\n",
      "2767/2767 [==============================] - 105s 38ms/step - loss: 1.5111 - accuracy: 0.5463 - val_loss: 1.6660 - val_accuracy: 0.5053\n",
      "Epoch 73/100\n",
      "2767/2767 [==============================] - 104s 38ms/step - loss: 1.5071 - accuracy: 0.5478 - val_loss: 1.6640 - val_accuracy: 0.5097\n",
      "Epoch 74/100\n",
      "2767/2767 [==============================] - 105s 38ms/step - loss: 1.5029 - accuracy: 0.5485 - val_loss: 1.6639 - val_accuracy: 0.5083\n",
      "Epoch 75/100\n",
      "2767/2767 [==============================] - 104s 38ms/step - loss: 1.4987 - accuracy: 0.5505 - val_loss: 1.6648 - val_accuracy: 0.5084\n",
      "Epoch 76/100\n",
      "2767/2767 [==============================] - 103s 37ms/step - loss: 1.4949 - accuracy: 0.5511 - val_loss: 1.6679 - val_accuracy: 0.5068\n",
      "Epoch 77/100\n",
      "2767/2767 [==============================] - 104s 37ms/step - loss: 1.4909 - accuracy: 0.5520 - val_loss: 1.6646 - val_accuracy: 0.5092\n",
      "Epoch 78/100\n",
      "2767/2767 [==============================] - 103s 37ms/step - loss: 1.4871 - accuracy: 0.5528 - val_loss: 1.6645 - val_accuracy: 0.5075\n",
      "Epoch 79/100\n",
      "2767/2767 [==============================] - 104s 37ms/step - loss: 1.4832 - accuracy: 0.5548 - val_loss: 1.6676 - val_accuracy: 0.5067\n",
      "Epoch 80/100\n",
      "2767/2767 [==============================] - 103s 37ms/step - loss: 1.4795 - accuracy: 0.5547 - val_loss: 1.6687 - val_accuracy: 0.5086\n",
      "Epoch 81/100\n",
      "2767/2767 [==============================] - 104s 38ms/step - loss: 1.4756 - accuracy: 0.5565 - val_loss: 1.6667 - val_accuracy: 0.5079\n",
      "Epoch 82/100\n",
      "2767/2767 [==============================] - 104s 38ms/step - loss: 1.4719 - accuracy: 0.5579 - val_loss: 1.6729 - val_accuracy: 0.5066\n",
      "Epoch 83/100\n",
      "2767/2767 [==============================] - 104s 38ms/step - loss: 1.4679 - accuracy: 0.5588 - val_loss: 1.6700 - val_accuracy: 0.5070\n",
      "Epoch 84/100\n",
      "2767/2767 [==============================] - 104s 37ms/step - loss: 1.4643 - accuracy: 0.5598 - val_loss: 1.6690 - val_accuracy: 0.5066\n",
      "Epoch 85/100\n",
      "2767/2767 [==============================] - 104s 37ms/step - loss: 1.4607 - accuracy: 0.5606 - val_loss: 1.6717 - val_accuracy: 0.5066\n",
      "Epoch 86/100\n",
      "2767/2767 [==============================] - 104s 38ms/step - loss: 1.4570 - accuracy: 0.5616 - val_loss: 1.6691 - val_accuracy: 0.5064\n",
      "Epoch 87/100\n",
      "2767/2767 [==============================] - 104s 38ms/step - loss: 1.4533 - accuracy: 0.5629 - val_loss: 1.6717 - val_accuracy: 0.5083\n",
      "Epoch 88/100\n",
      "2767/2767 [==============================] - 104s 37ms/step - loss: 1.4500 - accuracy: 0.5643 - val_loss: 1.6723 - val_accuracy: 0.5103\n",
      "Epoch 89/100\n",
      "2767/2767 [==============================] - 104s 38ms/step - loss: 1.4462 - accuracy: 0.5652 - val_loss: 1.6717 - val_accuracy: 0.5076\n",
      "Epoch 90/100\n",
      "2767/2767 [==============================] - 104s 38ms/step - loss: 1.4428 - accuracy: 0.5658 - val_loss: 1.6758 - val_accuracy: 0.5065\n",
      "Epoch 91/100\n",
      "2767/2767 [==============================] - 104s 38ms/step - loss: 1.4394 - accuracy: 0.5669 - val_loss: 1.6731 - val_accuracy: 0.5088\n",
      "Epoch 92/100\n",
      "2767/2767 [==============================] - 104s 37ms/step - loss: 1.4358 - accuracy: 0.5678 - val_loss: 1.6794 - val_accuracy: 0.5067\n",
      "Epoch 93/100\n",
      "2767/2767 [==============================] - 104s 38ms/step - loss: 1.4324 - accuracy: 0.5690 - val_loss: 1.6755 - val_accuracy: 0.5061\n",
      "Epoch 94/100\n",
      "2767/2767 [==============================] - 105s 38ms/step - loss: 1.4290 - accuracy: 0.5701 - val_loss: 1.6760 - val_accuracy: 0.5073\n",
      "Epoch 95/100\n",
      "2767/2767 [==============================] - 104s 38ms/step - loss: 1.4255 - accuracy: 0.5711 - val_loss: 1.6777 - val_accuracy: 0.5063\n",
      "Epoch 96/100\n",
      "2767/2767 [==============================] - 105s 38ms/step - loss: 1.4222 - accuracy: 0.5715 - val_loss: 1.6794 - val_accuracy: 0.5072\n",
      "Epoch 97/100\n",
      "2767/2767 [==============================] - 105s 38ms/step - loss: 1.4190 - accuracy: 0.5728 - val_loss: 1.6838 - val_accuracy: 0.5047\n",
      "Epoch 98/100\n",
      "2767/2767 [==============================] - 104s 38ms/step - loss: 1.4155 - accuracy: 0.5738 - val_loss: 1.6849 - val_accuracy: 0.5065\n",
      "Epoch 99/100\n",
      "2767/2767 [==============================] - 104s 37ms/step - loss: 1.4121 - accuracy: 0.5753 - val_loss: 1.6844 - val_accuracy: 0.5056\n",
      "Epoch 100/100\n",
      "2767/2767 [==============================] - 104s 38ms/step - loss: 1.4090 - accuracy: 0.5755 - val_loss: 1.6823 - val_accuracy: 0.5037\n",
      "end\n",
      "Learning rate 1e-04\n"
     ]
    },
    {
     "name": "stderr",
     "output_type": "stream",
     "text": [
      "WARNING:absl:Found untraced functions such as lstm_cell_2_layer_call_fn, lstm_cell_2_layer_call_and_return_conditional_losses, lstm_cell_3_layer_call_fn, lstm_cell_3_layer_call_and_return_conditional_losses while saving (showing 4 of 4). These functions will not be directly callable after loading.\n"
     ]
    },
    {
     "name": "stdout",
     "output_type": "stream",
     "text": [
      "INFO:tensorflow:Assets written to: ram://b23b2b4f-a82f-48ae-9596-7c66de117589/assets\n"
     ]
    },
    {
     "name": "stderr",
     "output_type": "stream",
     "text": [
      "INFO:tensorflow:Assets written to: ram://b23b2b4f-a82f-48ae-9596-7c66de117589/assets\n"
     ]
    }
   ],
   "source": [
    "model = Sequential()\n",
    "model.add(LSTM(128, input_shape=(SEQUENCE_LENGTH, len(chars)), return_sequences=True))\n",
    "model.add(LSTM(128))\n",
    "model.add(Dense(len(chars)))\n",
    "model.add(Activation('softmax'))\n",
    "\n",
    "# optimizer = RMSprop(lr=0.01)\n",
    "\n",
    "model.compile(loss='categorical_crossentropy', optimizer='rmsprop', metrics=['accuracy'])\n",
    "model.optimizer.lr=0.0001\n",
    "history = model.fit(X, Y, validation_split=0.05, batch_size=128, epochs=100, shuffle=True).history\n",
    "\n",
    "print(\"end\")\n",
    "print(\"Learning rate\",K.eval(model.optimizer.lr))\n",
    "mf = open(model_file, 'wb')\n",
    "pickle.dump(model, mf)"
   ]
  },
  {
   "cell_type": "code",
   "execution_count": 18,
   "metadata": {},
   "outputs": [],
   "source": [
    "import matplotlib.pyplot as plt"
   ]
  },
  {
   "cell_type": "code",
   "execution_count": 19,
   "metadata": {},
   "outputs": [
    {
     "data": {
      "image/png": "[encoded data removed]",
      "text/plain": [
       "<Figure size 432x288 with 1 Axes>"
      ]
     },
     "metadata": {
      "needs_background": "light"
     },
     "output_type": "display_data"
    }
   ],
   "source": [
    "plt.plot(history['loss'])\n",
    "plt.plot(history['val_loss'])\n",
    "plt.title('Model loss')\n",
    "plt.xlabel('epoch')\n",
    "plt.ylabel('loss')\n",
    "plt.legend(['loss','validation loss'])\n",
    "plt.savefig(\"100epochs_lr1e-1_seq15.png\")"
   ]
  },
  {
   "cell_type": "code",
   "execution_count": 20,
   "metadata": {},
   "outputs": [
    {
     "data": {
      "image/png": "[encoded data removed]",
      "text/plain": [
       "<Figure size 432x288 with 1 Axes>"
      ]
     },
     "metadata": {
      "needs_background": "light"
     },
     "output_type": "display_data"
    }
   ],
   "source": [
    "plt.plot(history['accuracy'])\n",
    "plt.plot(history['val_accuracy'])\n",
    "plt.title('Model Accuracy')\n",
    "plt.xlabel('epoch')\n",
    "plt.ylabel('accuracy')\n",
    "plt.legend(['accuracy','validation accuracy'])\n",
    "plt.savefig(\"100epochs_lr1e-1_accuracy_seq15.png\")"
   ]
  },
  {
   "cell_type": "code",
   "execution_count": 21,
   "metadata": {},
   "outputs": [],
   "source": [
    "def prepare_input(text):\n",
    "    x = np.zeros((1, SEQUENCE_LENGTH, len(chars)))    \n",
    "    for t, char in enumerate(text):\n",
    "        x[0, t, char_index[char]] = 1.\n",
    "        \n",
    "    return x"
   ]
  },
  {
   "cell_type": "code",
   "execution_count": 22,
   "metadata": {},
   "outputs": [],
   "source": [
    "import heapq\n",
    "def sample(preds, top_n=3):\n",
    "    preds = np.asarray(preds).astype('float64')\n",
    "    preds = np.log(preds)\n",
    "    exp_preds = np.exp(preds)\n",
    "    preds = exp_preds / np.sum(exp_preds)\n",
    "    \n",
    "    return heapq.nlargest(top_n, range(len(preds)), preds.take)"
   ]
  },
  {
   "cell_type": "code",
   "execution_count": 23,
   "metadata": {},
   "outputs": [],
   "source": [
    "def predict_completion(text):\n",
    "    original_text = text\n",
    "    generated = text\n",
    "    completion = ''\n",
    "    while True:\n",
    "        x = prepare_input(text)\n",
    "        preds = model.predict(x, verbose=0)[0]\n",
    "        next_index = sample(preds, top_n=1)[0]\n",
    "        next_char = index_char[next_index]        \n",
    "        text = text[1:] + next_char\n",
    "        #print(\"next char:\",next_char)\n",
    "        completion += next_char\n",
    "        \n",
    "        if next_char==\" \" or len(completion)>SEQUENCE_LENGTH-5:\n",
    "            return completion"
   ]
  },
  {
   "cell_type": "code",
   "execution_count": 24,
   "metadata": {},
   "outputs": [],
   "source": [
    "def predict_completions(text, n=3):\n",
    "    x = prepare_input(text)\n",
    "    preds = model.predict(x, verbose=0)[0]\n",
    "    next_indices = sample(preds, n)\n",
    "    return [index_char[idx] + predict_completion(text[1:] + index_char[idx]) for idx in next_indices]"
   ]
  },
  {
   "cell_type": "code",
   "execution_count": 25,
   "metadata": {},
   "outputs": [],
   "source": [
    "validate=open('validation.tsv','r').readlines()[0:1000]\n",
    "#print(validate)"
   ]
  },
  {
   "cell_type": "code",
   "execution_count": 26,
   "metadata": {},
   "outputs": [],
   "source": [
    "validation_data=[]\n",
    "for line in validate:\n",
    "    lines=line.split('\\t')\n",
    "    text=lines[0]\n",
    "    validation_data.append(text)"
   ]
  },
  {
   "cell_type": "code",
   "execution_count": 27,
   "metadata": {},
   "outputs": [
    {
     "name": "stdout",
     "output_type": "stream",
     "text": [
      "['ганмыԓеным ытԓьэн аймак тэӈӄырым ныпэԓянэн', 'таӈӄонпы ынкы нытваԓьатӄэн ӄынвэр', 'ынанчинит', 'ыяагты ныԓӄытӄин тэӈэмръиԓемъетэ ынӄо', 'энмэч', 'эԓек гэԓгинъытвиԓин', 'энмэч этъым энъыӈ игык гэнъэтԓин ԓыгэным гаԓгэмчытвэԓен аны таӈӄонпы нытэнмавӄэн эгэты итык моогъэ рамчытвэӈкы еп ӄэюуӄэю вама ынӄо ԓьэԓеӈ', 'нэймэвӄин эвын ԓыгиӄитыргыԓьыӄэй ӄэюуӄэй эвыным ынкы ӄырымэн', 'ӄэюу энмэч ԓыгэн', 'пээчвако нынъэԓӄин амӄынъычо нырэрмэвӈыԓьэтӄин ӄԓегпээчваӄӄай гамгаӈайгыпы']\n"
     ]
    }
   ],
   "source": [
    "print(validation_data[:10])"
   ]
  },
  {
   "cell_type": "code",
   "execution_count": 17,
   "metadata": {},
   "outputs": [],
   "source": [
    "#output_file = open(\"output4_seq15.txt\",\"a\")\n",
    "#for data in validation_data[:100]:\n",
    " #   output=predict_completions(data[:15])\n",
    "  #  output_file.write(data+\"   \"+data[:15]+\"   \"+str(output)+\"\\n\")\n",
    "    "
   ]
  },
  {
   "cell_type": "code",
   "execution_count": 16,
   "metadata": {},
   "outputs": [
    {
     "name": "stdout",
     "output_type": "stream",
     "text": [
      "['ъэ ', 'ыргын ', 'ты ']\n"
     ]
    }
   ],
   "source": [
    "#print(predict_completions(text[:15]))"
   ]
  },
  {
   "cell_type": "code",
   "execution_count": 61,
   "metadata": {},
   "outputs": [
    {
     "name": "stdout",
     "output_type": "stream",
     "text": [
      "[['ганмыԓеным ытԓьэн аймак тэӈӄырым ныпэԓянэн', ['га', 'ган', 'ганм', 'ганмы', 'ганмыԓ', 'ганмыԓе', 'ганмыԓен', 'ганмыԓены', 'ганмыԓеным', '_', 'ыт', 'ытԓ', 'ытԓь', 'ытԓьэ', 'ытԓьэн', '_', 'ай', 'айм', 'айма', 'аймак', '_', 'тэ', 'тэӈ', 'тэӈӄ', 'тэӈӄы', 'тэӈӄыр', 'тэӈӄыры', 'тэӈӄырым', '_', 'ны', 'нып', 'ныпэ', 'ныпэԓ', 'ныпэԓя', 'ныпэԓян', 'ныпэԓянэ', 'ныпэԓянэн', '_']], ['таӈӄонпы ынкы нытваԓьатӄэн ӄынвэр', ['та', 'таӈ', 'таӈӄ', 'таӈӄо', 'таӈӄон', 'таӈӄонп', 'таӈӄонпы', '_', 'ын', 'ынк', 'ынкы', '_', 'ны', 'ныт', 'нытв', 'нытва', 'нытваԓ', 'нытваԓь', 'нытваԓьа', 'нытваԓьат', 'нытваԓьатӄ', 'нытваԓьатӄэ', 'нытваԓьатӄэн', '_', 'ӄы', 'ӄын', 'ӄынв', 'ӄынвэ', 'ӄынвэр', '_']], ['ынанчинит', ['ын', 'ына', 'ынан', 'ынанч', 'ынанчи', 'ынанчин', 'ынанчини', 'ынанчинит', '_']], ['ыяагты ныԓӄытӄин тэӈэмръиԓемъетэ ынӄо', ['ыя', 'ыяа', 'ыяаг', 'ыяагт', 'ыяагты', '_', 'ны', 'ныԓ', 'ныԓӄ', 'ныԓӄы', 'ныԓӄыт', 'ныԓӄытӄ', 'ныԓӄытӄи', 'ныԓӄытӄин', '_', 'тэ', 'тэӈ', 'тэӈэ', 'тэӈэм', 'тэӈэмр', 'тэӈэмръ', 'тэӈэмръи', 'тэӈэмръиԓ', 'тэӈэмръиԓе', 'тэӈэмръиԓем', 'тэӈэмръиԓемъ', 'тэӈэмръиԓемъе', 'тэӈэмръиԓемъет', 'тэӈэмръиԓемъетэ', '_', 'ын', 'ынӄ', 'ынӄо', '_']], ['энмэч', ['эн', 'энм', 'энмэ', 'энмэч', '_']], ['эԓек гэԓгинъытвиԓин', ['эԓ', 'эԓе', 'эԓек', '_', 'гэ', 'гэԓ', 'гэԓг', 'гэԓги', 'гэԓгин', 'гэԓгинъ', 'гэԓгинъы', 'гэԓгинъыт', 'гэԓгинъытв', 'гэԓгинъытви', 'гэԓгинъытвиԓ', 'гэԓгинъытвиԓи', 'гэԓгинъытвиԓин', '_']], ['энмэч этъым энъыӈ игык гэнъэтԓин ԓыгэным гаԓгэмчытвэԓен аны таӈӄонпы нытэнмавӄэн эгэты итык моогъэ рамчытвэӈкы еп ӄэюуӄэю вама ынӄо ԓьэԓеӈ', ['эн', 'энм', 'энмэ', 'энмэч', '_', 'эт', 'этъ', 'этъы', 'этъым', '_', 'эн', 'энъ', 'энъы', 'энъыӈ', '_', 'иг', 'игы', 'игык', '_', 'гэ', 'гэн', 'гэнъ', 'гэнъэ', 'гэнъэт', 'гэнъэтԓ', 'гэнъэтԓи', 'гэнъэтԓин', '_', 'ԓы', 'ԓыг', 'ԓыгэ', 'ԓыгэн', 'ԓыгэны', 'ԓыгэным', '_', 'га', 'гаԓ', 'гаԓг', 'гаԓгэ', 'гаԓгэм', 'гаԓгэмч', 'гаԓгэмчы', 'гаԓгэмчыт', 'гаԓгэмчытв', 'гаԓгэмчытвэ', 'гаԓгэмчытвэԓ', 'гаԓгэмчытвэԓе', 'гаԓгэмчытвэԓен', '_', 'ан', 'аны', '_', 'та', 'таӈ', 'таӈӄ', 'таӈӄо', 'таӈӄон', 'таӈӄонп', 'таӈӄонпы', '_', 'ны', 'ныт', 'нытэ', 'нытэн', 'нытэнм', 'нытэнма', 'нытэнмав', 'нытэнмавӄ', 'нытэнмавӄэ', 'нытэнмавӄэн', '_', 'эг', 'эгэ', 'эгэт', 'эгэты', '_', 'ит', 'иты', 'итык', '_', 'мо', 'моо', 'моог', 'моогъ', 'моогъэ', '_', 'ра', 'рам', 'рамч', 'рамчы', 'рамчыт', 'рамчытв', 'рамчытвэ', 'рамчытвэӈ', 'рамчытвэӈк', 'рамчытвэӈкы', '_', 'еп', '_', 'ӄэ', 'ӄэю', 'ӄэюу', 'ӄэюуӄ', 'ӄэюуӄэ', 'ӄэюуӄэю', '_', 'ва', 'вам', 'вама', '_', 'ын', 'ынӄ', 'ынӄо', '_', 'ԓь', 'ԓьэ', 'ԓьэԓ', 'ԓьэԓе', 'ԓьэԓеӈ', '_']], ['нэймэвӄин эвын ԓыгиӄитыргыԓьыӄэй ӄэюуӄэй эвыным ынкы ӄырымэн', ['нэ', 'нэй', 'нэйм', 'нэймэ', 'нэймэв', 'нэймэвӄ', 'нэймэвӄи', 'нэймэвӄин', '_', 'эв', 'эвы', 'эвын', '_', 'ԓы', 'ԓыг', 'ԓыги', 'ԓыгиӄ', 'ԓыгиӄи', 'ԓыгиӄит', 'ԓыгиӄиты', 'ԓыгиӄитыр', 'ԓыгиӄитырг', 'ԓыгиӄитыргы', 'ԓыгиӄитыргыԓ', 'ԓыгиӄитыргыԓь', 'ԓыгиӄитыргыԓьы', 'ԓыгиӄитыргыԓьыӄ', 'ԓыгиӄитыргыԓьыӄэ', 'ыгиӄитыргыԓьыӄэй', '_', 'ӄэ', 'ӄэю', 'ӄэюу', 'ӄэюуӄ', 'ӄэюуӄэ', 'ӄэюуӄэй', '_', 'эв', 'эвы', 'эвын', 'эвыны', 'эвыным', '_', 'ын', 'ынк', 'ынкы', '_', 'ӄы', 'ӄыр', 'ӄыры', 'ӄырым', 'ӄырымэ', 'ӄырымэн', '_']], ['ӄэюу энмэч ԓыгэн', ['ӄэ', 'ӄэю', 'ӄэюу', '_', 'эн', 'энм', 'энмэ', 'энмэч', '_', 'ԓы', 'ԓыг', 'ԓыгэ', 'ԓыгэн', '_']], ['пээчвако нынъэԓӄин амӄынъычо нырэрмэвӈыԓьэтӄин ӄԓегпээчваӄӄай гамгаӈайгыпы', ['пэ', 'пээ', 'пээч', 'пээчв', 'пээчва', 'пээчвак', 'пээчвако', '_', 'ны', 'нын', 'нынъ', 'нынъэ', 'нынъэԓ', 'нынъэԓӄ', 'нынъэԓӄи', 'нынъэԓӄин', '_', 'ам', 'амӄ', 'амӄы', 'амӄын', 'амӄынъ', 'амӄынъы', 'амӄынъыч', 'амӄынъычо', '_', 'ны', 'ныр', 'нырэ', 'нырэр', 'нырэрм', 'нырэрмэ', 'нырэрмэв', 'нырэрмэвӈ', 'нырэрмэвӈы', 'нырэрмэвӈыԓ', 'нырэрмэвӈыԓь', 'нырэрмэвӈыԓьэ', 'нырэрмэвӈыԓьэт', 'нырэрмэвӈыԓьэтӄ', 'нырэрмэвӈыԓьэтӄи', 'ырэрмэвӈыԓьэтӄин', '_', 'ӄԓ', 'ӄԓе', 'ӄԓег', 'ӄԓегп', 'ӄԓегпэ', 'ӄԓегпээ', 'ӄԓегпээч', 'ӄԓегпээчв', 'ӄԓегпээчва', 'ӄԓегпээчваӄ', 'ӄԓегпээчваӄӄ', 'ӄԓегпээчваӄӄа', 'ӄԓегпээчваӄӄай', '_', 'га', 'гам', 'гамг', 'гамга', 'гамгаӈ', 'гамгаӈа', 'гамгаӈай', 'гамгаӈайг', 'гамгаӈайгы', 'гамгаӈайгып', 'гамгаӈайгыпы', '_']], ['ныԓейвыԓьэтӄин ԓыгэн ӄун танԓымынӄо ӄэюуӄэй', ['ны', 'ныԓ', 'ныԓе', 'ныԓей', 'ныԓейв', 'ныԓейвы', 'ныԓейвыԓ', 'ныԓейвыԓь', 'ныԓейвыԓьэ', 'ныԓейвыԓьэт', 'ныԓейвыԓьэтӄ', 'ныԓейвыԓьэтӄи', 'ныԓейвыԓьэтӄин', '_', 'ԓы', 'ԓыг', 'ԓыгэ', 'ԓыгэн', '_', 'ӄу', 'ӄун', '_', 'та', 'тан', 'танԓ', 'танԓы', 'танԓым', 'танԓымы', 'танԓымын', 'танԓымынӄ', 'танԓымынӄо', '_', 'ӄэ', 'ӄэю', 'ӄэюу', 'ӄэюуӄ', 'ӄэюуӄэ', 'ӄэюуӄэй', '_']], ['эвыным ынкы ӄырымэн ӄэюу', ['эв', 'эвы', 'эвын', 'эвыны', 'эвыным', '_', 'ын', 'ынк', 'ынкы', '_', 'ӄы', 'ӄыр', 'ӄыры', 'ӄырым', 'ӄырымэ', 'ӄырымэн', '_', 'ӄэ', 'ӄэю', 'ӄэюу', '_']], ['энмэч ԓыгэн пээчвако нынъэԓӄин амӄынъычо', ['эн', 'энм', 'энмэ', 'энмэч', '_', 'ԓы', 'ԓыг', 'ԓыгэ', 'ԓыгэн', '_', 'пэ', 'пээ', 'пээч', 'пээчв', 'пээчва', 'пээчвак', 'пээчвако', '_', 'ны', 'нын', 'нынъ', 'нынъэ', 'нынъэԓ', 'нынъэԓӄ', 'нынъэԓӄи', 'нынъэԓӄин', '_', 'ам', 'амӄ', 'амӄы', 'амӄын', 'амӄынъ', 'амӄынъы', 'амӄынъыч', 'амӄынъычо', '_']], ['нырэрмэвӈыԓьэтӄин ӄԓегпээчваӄӄай гамгаӈайгыпы ныԓейвыԓьэтӄин ԓыгэн', ['ны', 'ныр', 'нырэ', 'нырэр', 'нырэрм', 'нырэрмэ', 'нырэрмэв', 'нырэрмэвӈ', 'нырэрмэвӈы', 'нырэрмэвӈыԓ', 'нырэрмэвӈыԓь', 'нырэрмэвӈыԓьэ', 'нырэрмэвӈыԓьэт', 'нырэрмэвӈыԓьэтӄ', 'нырэрмэвӈыԓьэтӄи', 'ырэрмэвӈыԓьэтӄин', '_', 'ӄԓ', 'ӄԓе', 'ӄԓег', 'ӄԓегп', 'ӄԓегпэ', 'ӄԓегпээ', 'ӄԓегпээч', 'ӄԓегпээчв', 'ӄԓегпээчва', 'ӄԓегпээчваӄ', 'ӄԓегпээчваӄӄ', 'ӄԓегпээчваӄӄа', 'ӄԓегпээчваӄӄай', '_', 'га', 'гам', 'гамг', 'гамга', 'гамгаӈ', 'гамгаӈа', 'гамгаӈай', 'гамгаӈайг', 'гамгаӈайгы', 'гамгаӈайгып', 'гамгаӈайгыпы', '_', 'ны', 'ныԓ', 'ныԓе', 'ныԓей', 'ныԓейв', 'ныԓейвы', 'ныԓейвыԓ', 'ныԓейвыԓь', 'ныԓейвыԓьэ', 'ныԓейвыԓьэт', 'ныԓейвыԓьэтӄ', 'ныԓейвыԓьэтӄи', 'ныԓейвыԓьэтӄин', '_', 'ԓы', 'ԓыг', 'ԓыгэ', 'ԓыгэн', '_']], ['ӄун танԓымынӄо', ['ӄу', 'ӄун', '_', 'та', 'тан', 'танԓ', 'танԓы', 'танԓым', 'танԓымы', 'танԓымын', 'танԓымынӄ', 'танԓымынӄо', '_']], ['ԓьэԓенръугъи ныринъытвиӈыԓьэтӄин таӈӄонпы ԓьэԓеӈит тэӈэмрэрмэвӈэ', ['ԓь', 'ԓьэ', 'ԓьэԓ', 'ԓьэԓе', 'ԓьэԓен', 'ԓьэԓенр', 'ԓьэԓенръ', 'ԓьэԓенръу', 'ԓьэԓенръуг', 'ԓьэԓенръугъ', 'ԓьэԓенръугъи', '_', 'ны', 'ныр', 'ныри', 'нырин', 'ныринъ', 'ныринъы', 'ныринъыт', 'ныринъытв', 'ныринъытви', 'ныринъытвиӈ', 'ныринъытвиӈы', 'ныринъытвиӈыԓ', 'ныринъытвиӈыԓь', 'ныринъытвиӈыԓьэ', 'ныринъытвиӈыԓьэт', 'ыринъытвиӈыԓьэтӄ', 'ринъытвиӈыԓьэтӄи', 'инъытвиӈыԓьэтӄин', '_', 'та', 'таӈ', 'таӈӄ', 'таӈӄо', 'таӈӄон', 'таӈӄонп', 'таӈӄонпы', '_', 'ԓь', 'ԓьэ', 'ԓьэԓ', 'ԓьэԓе', 'ԓьэԓеӈ', 'ԓьэԓеӈи', 'ԓьэԓеӈит', '_', 'тэ', 'тэӈ', 'тэӈэ', 'тэӈэм', 'тэӈэмр', 'тэӈэмрэ', 'тэӈэмрэр', 'тэӈэмрэрм', 'тэӈэмрэрмэ', 'тэӈэмрэрмэв', 'тэӈэмрэрмэвӈ', 'тэӈэмрэрмэвӈэ', '_']], ['ытри тэӈэмринъытвиӈэ танэн ынӄо кыткытръогъэ ԓыгэн пэнинэмиԓ нырэрмэвӈыӄин', ['ыт', 'ытр', 'ытри', '_', 'тэ', 'тэӈ', 'тэӈэ', 'тэӈэм', 'тэӈэмр', 'тэӈэмри', 'тэӈэмрин', 'тэӈэмринъ', 'тэӈэмринъы', 'тэӈэмринъыт', 'тэӈэмринъытв', 'тэӈэмринъытви', 'тэӈэмринъытвиӈ', 'тэӈэмринъытвиӈэ', '_', 'та', 'тан', 'танэ', 'танэн', '_', 'ын', 'ынӄ', 'ынӄо', '_', 'кы', 'кыт', 'кытк', 'кыткы', 'кыткыт', 'кыткытр', 'кыткытръ', 'кыткытръо', 'кыткытръог', 'кыткытръогъ', 'кыткытръогъэ', '_', 'ԓы', 'ԓыг', 'ԓыгэ', 'ԓыгэн', '_', 'пэ', 'пэн', 'пэни', 'пэнин', 'пэнинэ', 'пэнинэм', 'пэнинэми', 'пэнинэмиԓ', '_', 'ны', 'ныр', 'нырэ', 'нырэр', 'нырэрм', 'нырэрмэ', 'нырэрмэв', 'нырэрмэвӈ', 'нырэрмэвӈы', 'нырэрмэвӈыӄ', 'нырэрмэвӈыӄи', 'нырэрмэвӈыӄин', '_']], ['ӄԓегпээчваӄӄай ымы эԓеӈит', ['ӄԓ', 'ӄԓе', 'ӄԓег', 'ӄԓегп', 'ӄԓегпэ', 'ӄԓегпээ', 'ӄԓегпээч', 'ӄԓегпээчв', 'ӄԓегпээчва', 'ӄԓегпээчваӄ', 'ӄԓегпээчваӄӄ', 'ӄԓегпээчваӄӄа', 'ӄԓегпээчваӄӄай', '_', 'ым', 'ымы', '_', 'эԓ', 'эԓе', 'эԓеӈ', 'эԓеӈи', 'эԓеӈит', '_']], ['ванэван нытымӈэтван наӄам тэӈӄырым ытԓьэн въэн ныпэԓянэн', ['ва', 'ван', 'ванэ', 'ванэв', 'ванэва', 'ванэван', '_', 'ны', 'ныт', 'ныты', 'нытым', 'нытымӈ', 'нытымӈэ', 'нытымӈэт', 'нытымӈэтв', 'нытымӈэтва', 'нытымӈэтван', '_', 'на', 'наӄ', 'наӄа', 'наӄам', '_', 'тэ', 'тэӈ', 'тэӈӄ', 'тэӈӄы', 'тэӈӄыр', 'тэӈӄыры', 'тэӈӄырым', '_', 'ыт', 'ытԓ', 'ытԓь', 'ытԓьэ', 'ытԓьэн', '_', 'въ', 'въэ', 'въэн', '_', 'ны', 'нып', 'ныпэ', 'ныпэԓ', 'ныпэԓя', 'ныпэԓян', 'ныпэԓянэ', 'ныпэԓянэн', '_']], ['ӄынвэр гытгаръогъэ ԓюур рай етгъи', ['ӄы', 'ӄын', 'ӄынв', 'ӄынвэ', 'ӄынвэр', '_', 'гы', 'гыт', 'гытг', 'гытга', 'гытгар', 'гытгаръ', 'гытгаръо', 'гытгаръог', 'гытгаръогъ', 'гытгаръогъэ', '_', 'ԓю', 'ԓюу', 'ԓюур', '_', 'ра', 'рай', '_', 'ет', 'етг', 'етгъ', 'етгъи', '_']], ['эгычгын ԓыгэн пыкиринэӈу пынԓёԓьатыӈой', ['эг', 'эгы', 'эгыч', 'эгычг', 'эгычгы', 'эгычгын', '_', 'ԓы', 'ԓыг', 'ԓыгэ', 'ԓыгэн', '_', 'пы', 'пык', 'пыки', 'пыкир', 'пыкири', 'пыкирин', 'пыкиринэ', 'пыкиринэӈ', 'пыкиринэӈу', '_', 'пы', 'пын', 'пынԓ', 'пынԓё', 'пынԓёԓ', 'пынԓёԓь', 'пынԓёԓьа', 'пынԓёԓьат', 'пынԓёԓьаты', 'пынԓёԓьатыӈ', 'пынԓёԓьатыӈо', 'пынԓёԓьатыӈой', '_']], ['ымто миӈкыри нытвайгыт', ['ым', 'ымт', 'ымто', '_', 'ми', 'миӈ', 'миӈк', 'миӈкы', 'миӈкыр', 'миӈкыри', '_', 'ны', 'ныт', 'нытв', 'нытва', 'нытвай', 'нытвайг', 'нытвайгы', 'нытвайгыт', '_']], ['вынэ нырэчьэнӈигым како мэй вэԓынкыӄунэйгыт амыным титэ мэвын трэнугыр вынэ', ['вы', 'вын', 'вынэ', '_', 'ны', 'ныр', 'нырэ', 'нырэч', 'нырэчь', 'нырэчьэ', 'нырэчьэн', 'нырэчьэнӈ', 'нырэчьэнӈи', 'нырэчьэнӈиг', 'нырэчьэнӈигы', 'нырэчьэнӈигым', '_', 'ка', 'как', 'како', '_', 'мэ', 'мэй', '_', 'вэ', 'вэԓ', 'вэԓы', 'вэԓын', 'вэԓынк', 'вэԓынкы', 'вэԓынкыӄ', 'вэԓынкыӄу', 'вэԓынкыӄун', 'вэԓынкыӄунэ', 'вэԓынкыӄунэй', 'вэԓынкыӄунэйг', 'вэԓынкыӄунэйгы', 'вэԓынкыӄунэйгыт', '_', 'ам', 'амы', 'амын', 'амыны', 'амыным', '_', 'ти', 'тит', 'титэ', '_', 'мэ', 'мэв', 'мэвы', 'мэвын', '_', 'тр', 'трэ', 'трэн', 'трэну', 'трэнуг', 'трэнугы', 'трэнугыр', '_', 'вы', 'вын', 'вынэ', '_']], ['еп ытръэч ныппыԓюйгым чама этки мъэйыркыԓьигым', ['еп', '_', 'ыт', 'ытр', 'ытръ', 'ытръэ', 'ытръэч', '_', 'ны', 'нып', 'ныпп', 'ныппы', 'ныппыԓ', 'ныппыԓю', 'ныппыԓюй', 'ныппыԓюйг', 'ныппыԓюйгы', 'ныппыԓюйгым', '_', 'ча', 'чам', 'чама', '_', 'эт', 'этк', 'этки', '_', 'мъ', 'мъэ', 'мъэй', 'мъэйы', 'мъэйыр', 'мъэйырк', 'мъэйыркы', 'мъэйыркыԓ', 'мъэйыркыԓь', 'мъэйыркыԓьи', 'мъэйыркыԓьиг', 'мъэйыркыԓьигы', 'мъэйыркыԓьигым', '_']], ['ако вынэ ӄэгԓынангэт энмэч', ['ак', 'ако', '_', 'вы', 'вын', 'вынэ', '_', 'ӄэ', 'ӄэг', 'ӄэгԓ', 'ӄэгԓы', 'ӄэгԓын', 'ӄэгԓына', 'ӄэгԓынан', 'ӄэгԓынанг', 'ӄэгԓынангэ', 'ӄэгԓынангэт', '_', 'эн', 'энм', 'энмэ', 'энмэч', '_']], ['виин мэквэтык ии', ['ви', 'вии', 'виин', '_', 'мэ', 'мэк', 'мэкв', 'мэквэ', 'мэквэт', 'мэквэты', 'мэквэтык', '_', 'ии', '_']], ['энмэн ԓыгитэмъюгнин ынӈъэм таӈванэван нырэчьэнӈын ынкъам ымгытгаӈэт', ['эн', 'энм', 'энмэ', 'энмэн', '_', 'ԓы', 'ԓыг', 'ԓыги', 'ԓыгит', 'ԓыгитэ', 'ԓыгитэм', 'ԓыгитэмъ', 'ԓыгитэмъю', 'ԓыгитэмъюг', 'ԓыгитэмъюгн', 'ԓыгитэмъюгни', 'ԓыгитэмъюгнин', '_', 'ын', 'ынӈ', 'ынӈъ', 'ынӈъэ', 'ынӈъэм', '_', 'та', 'таӈ', 'таӈв', 'таӈва', 'таӈван', 'таӈванэ', 'таӈванэв', 'таӈванэва', 'таӈванэван', '_', 'ны', 'ныр', 'нырэ', 'нырэч', 'нырэчь', 'нырэчьэ', 'нырэчьэн', 'нырэчьэнӈ', 'нырэчьэнӈы', 'нырэчьэнӈын', '_', 'ын', 'ынк', 'ынкъ', 'ынкъа', 'ынкъам', '_', 'ым', 'ымг', 'ымгы', 'ымгыт', 'ымгытг', 'ымгытга', 'ымгытгаӈ', 'ымгытгаӈэ', 'ымгытгаӈэт', '_']], ['ымы ымԓьаԓяӈэт майыӈкы', ['ым', 'ымы', '_', 'ым', 'ымԓ', 'ымԓь', 'ымԓьа', 'ымԓьаԓ', 'ымԓьаԓя', 'ымԓьаԓяӈ', 'ымԓьаԓяӈэ', 'ымԓьаԓяӈэт', '_', 'ма', 'май', 'майы', 'майыӈ', 'майыӈк', 'майыӈкы', '_']], ['ниԓюԓьэтӄин ынӄо эԓеръуй пэнвэԓю нъэԓгъи ынраӄ', ['ни', 'ниԓ', 'ниԓю', 'ниԓюԓ', 'ниԓюԓь', 'ниԓюԓьэ', 'ниԓюԓьэт', 'ниԓюԓьэтӄ', 'ниԓюԓьэтӄи', 'ниԓюԓьэтӄин', '_', 'ын', 'ынӄ', 'ынӄо', '_', 'эԓ', 'эԓе', 'эԓер', 'эԓеръ', 'эԓеръу', 'эԓеръуй', '_', 'пэ', 'пэн', 'пэнв', 'пэнвэ', 'пэнвэԓ', 'пэнвэԓю', '_', 'нъ', 'нъэ', 'нъэԓ', 'нъэԓг', 'нъэԓгъ', 'нъэԓгъи', '_', 'ын', 'ынр', 'ынра', 'ынраӄ', '_']], ['таӈамэнмэпы нъэԓгъи иԓюԓьэтык ӄынур', ['та', 'таӈ', 'таӈа', 'таӈам', 'таӈамэ', 'таӈамэн', 'таӈамэнм', 'таӈамэнмэ', 'таӈамэнмэп', 'таӈамэнмэпы', '_', 'нъ', 'нъэ', 'нъэԓ', 'нъэԓг', 'нъэԓгъ', 'нъэԓгъи', '_', 'иԓ', 'иԓю', 'иԓюԓ', 'иԓюԓь', 'иԓюԓьэ', 'иԓюԓьэт', 'иԓюԓьэты', 'иԓюԓьэтык', '_', 'ӄы', 'ӄын', 'ӄыну', 'ӄынур', '_']], ['кытэпаԓгын энмэпы', ['кы', 'кыт', 'кытэ', 'кытэп', 'кытэпа', 'кытэпаԓ', 'кытэпаԓг', 'кытэпаԓгы', 'кытэпаԓгын', '_', 'эн', 'энм', 'энмэ', 'энмэп', 'энмэпы', '_']], ['гарамчытвэнԓен ынкъам гэрэрмэвӈыԓин ынкы', ['га', 'гар', 'гара', 'гарам', 'гарамч', 'гарамчы', 'гарамчыт', 'гарамчытв', 'гарамчытвэ', 'гарамчытвэн', 'гарамчытвэнԓ', 'гарамчытвэнԓе', 'гарамчытвэнԓен', '_', 'ын', 'ынк', 'ынкъ', 'ынкъа', 'ынкъам', '_', 'гэ', 'гэр', 'гэрэ', 'гэрэр', 'гэрэрм', 'гэрэрмэ', 'гэрэрмэв', 'гэрэрмэвӈ', 'гэрэрмэвӈы', 'гэрэрмэвӈыԓ', 'гэрэрмэвӈыԓи', 'гэрэрмэвӈыԓин', '_', 'ын', 'ынк', 'ынкы', '_']], ['маччевтэнмэпы ныпиӈкуӄин звтыԓягты гытгаръок нэмэ пыкиргъи эгычгын ымто эты', ['ма', 'мач', 'мачч', 'мачче', 'маччев', 'маччевт', 'маччевтэ', 'маччевтэн', 'маччевтэнм', 'маччевтэнмэ', 'маччевтэнмэп', 'маччевтэнмэпы', '_', 'ны', 'нып', 'ныпи', 'ныпиӈ', 'ныпиӈк', 'ныпиӈку', 'ныпиӈкуӄ', 'ныпиӈкуӄи', 'ныпиӈкуӄин', '_', 'зв', 'звт', 'звты', 'звтыԓ', 'звтыԓя', 'звтыԓяг', 'звтыԓягт', 'звтыԓягты', '_', 'гы', 'гыт', 'гытг', 'гытга', 'гытгар', 'гытгаръ', 'гытгаръо', 'гытгаръок', '_', 'нэ', 'нэм', 'нэмэ', '_', 'пы', 'пык', 'пыки', 'пыкир', 'пыкирг', 'пыкиргъ', 'пыкиргъи', '_', 'эг', 'эгы', 'эгыч', 'эгычг', 'эгычгы', 'эгычгын', '_', 'ым', 'ымт', 'ымто', '_', 'эт', 'эты', '_']], ['игыр мэйӈытыргэквъи ӄооӈ', ['иг', 'игы', 'игыр', '_', 'мэ', 'мэй', 'мэйӈ', 'мэйӈы', 'мэйӈыт', 'мэйӈыты', 'мэйӈытыр', 'мэйӈытырг', 'мэйӈытыргэ', 'мэйӈытыргэк', 'мэйӈытыргэкв', 'мэйӈытыргэквъ', 'мэйӈытыргэквъи', '_', 'ӄо', 'ӄоо', 'ӄооӈ', '_']], ['ытръэч аны вай еп ӄупӄыԓьигым', ['ыт', 'ытр', 'ытръ', 'ытръэ', 'ытръэч', '_', 'ан', 'аны', '_', 'ва', 'вай', '_', 'еп', '_', 'ӄу', 'ӄуп', 'ӄупӄ', 'ӄупӄы', 'ӄупӄыԓ', 'ӄупӄыԓь', 'ӄупӄыԓьи', 'ӄупӄыԓьиг', 'ӄупӄыԓьигы', 'ӄупӄыԓьигым', '_']], ['чама еп', ['ча', 'чам', 'чама', '_', 'еп', '_']], ['мэсӄупӄыныппыԓюйгым киткит ивкэ ӄэйыӄын', ['мэ', 'мэс', 'мэсӄ', 'мэсӄу', 'мэсӄуп', 'мэсӄупӄ', 'мэсӄупӄы', 'мэсӄупӄын', 'мэсӄупӄыны', 'мэсӄупӄынып', 'мэсӄупӄыныпп', 'мэсӄупӄыныппы', 'мэсӄупӄыныппыԓ', 'мэсӄупӄыныппыԓю', 'мэсӄупӄыныппыԓюй', 'эсӄупӄыныппыԓюйг', 'сӄупӄыныппыԓюйгы', 'ӄупӄыныппыԓюйгым', '_', 'ки', 'кит', 'китк', 'китки', 'киткит', '_', 'ив', 'ивк', 'ивкэ', '_', 'ӄэ', 'ӄэй', 'ӄэйы', 'ӄэйыӄ', 'ӄэйыӄы', 'ӄэйыӄын', '_']], ['тъымэчмэйӈэтык ии вынэ ӄэгԓынангэр', ['тъ', 'тъы', 'тъым', 'тъымэ', 'тъымэч', 'тъымэчм', 'тъымэчмэ', 'тъымэчмэй', 'тъымэчмэйӈ', 'тъымэчмэйӈэ', 'тъымэчмэйӈэт', 'тъымэчмэйӈэты', 'тъымэчмэйӈэтык', '_', 'ии', '_', 'вы', 'вын', 'вынэ', '_', 'ӄэ', 'ӄэг', 'ӄэгԓ', 'ӄэгԓы', 'ӄэгԓын', 'ӄэгԓына', 'ӄэгԓынан', 'ӄэгԓынанг', 'ӄэгԓынангэ', 'ӄэгԓынангэр', '_']], ['нэмэ эквэтгъи', ['нэ', 'нэм', 'нэмэ', '_', 'эк', 'экв', 'эквэ', 'эквэт', 'эквэтг', 'эквэтгъ', 'эквэтгъи', '_']], ['ынкы пэнин эквэнмыйӈэпы ныпиӈкуԓьэтӄин', ['ын', 'ынк', 'ынкы', '_', 'пэ', 'пэн', 'пэни', 'пэнин', '_', 'эк', 'экв', 'эквэ', 'эквэн', 'эквэнм', 'эквэнмы', 'эквэнмый', 'эквэнмыйӈ', 'эквэнмыйӈэ', 'эквэнмыйӈэп', 'эквэнмыйӈэпы', '_', 'ны', 'нып', 'ныпи', 'ныпиӈ', 'ныпиӈк', 'ныпиӈку', 'ныпиӈкуԓ', 'ныпиӈкуԓь', 'ныпиӈкуԓьэ', 'ныпиӈкуԓьэт', 'ныпиӈкуԓьэтӄ', 'ныпиӈкуԓьэтӄи', 'ныпиӈкуԓьэтӄин', '_']], ['рээн вээмык ыпэ ваԓьэпы', ['рэ', 'рээ', 'рээн', '_', 'вэ', 'вээ', 'вээм', 'вээмы', 'вээмык', '_', 'ып', 'ыпэ', '_', 'ва', 'ваԓ', 'ваԓь', 'ваԓьэ', 'ваԓьэп', 'ваԓьэпы', '_']], ['энмык ныпиӈкуӄин ынраӄ кырымынтэну', ['эн', 'энм', 'энмы', 'энмык', '_', 'ны', 'нып', 'ныпи', 'ныпиӈ', 'ныпиӈк', 'ныпиӈку', 'ныпиӈкуӄ', 'ныпиӈкуӄи', 'ныпиӈкуӄин', '_', 'ын', 'ынр', 'ынра', 'ынраӄ', '_', 'кы', 'кыр', 'кыры', 'кырым', 'кырымы', 'кырымын', 'кырымынт', 'кырымынтэ', 'кырымынтэн', 'кырымынтэну', '_']], ['нынъэԓтыԓеӄин эвыр таӈамъэвыӈ нынъэԓӄин', ['ны', 'нын', 'нынъ', 'нынъэ', 'нынъэԓ', 'нынъэԓт', 'нынъэԓты', 'нынъэԓтыԓ', 'нынъэԓтыԓе', 'нынъэԓтыԓеӄ', 'нынъэԓтыԓеӄи', 'нынъэԓтыԓеӄин', '_', 'эв', 'эвы', 'эвыр', '_', 'та', 'таӈ', 'таӈа', 'таӈам', 'таӈамъ', 'таӈамъэ', 'таӈамъэв', 'таӈамъэвы', 'таӈамъэвыӈ', '_', 'ны', 'нын', 'нынъ', 'нынъэ', 'нынъэԓ', 'нынъэԓӄ', 'нынъэԓӄи', 'нынъэԓӄин', '_']], ['таӈамармаӈ таӈамэнъыӈ нэмэ гытгаръокы йъонэн эвын кырымынтэну', ['та', 'таӈ', 'таӈа', 'таӈам', 'таӈама', 'таӈамар', 'таӈамарм', 'таӈамарма', 'таӈамармаӈ', '_', 'та', 'таӈ', 'таӈа', 'таӈам', 'таӈамэ', 'таӈамэн', 'таӈамэнъ', 'таӈамэнъы', 'таӈамэнъыӈ', '_', 'нэ', 'нэм', 'нэмэ', '_', 'гы', 'гыт', 'гытг', 'гытга', 'гытгар', 'гытгаръ', 'гытгаръо', 'гытгаръок', 'гытгаръокы', '_', 'йъ', 'йъо', 'йъон', 'йъонэ', 'йъонэн', '_', 'эв', 'эвы', 'эвын', '_', 'кы', 'кыр', 'кыры', 'кырым', 'кырымы', 'кырымын', 'кырымынт', 'кырымынтэ', 'кырымынтэн', 'кырымынтэну', '_']], ['гэнъэтԓин пыкиргъи эгычгын нэмэ', ['гэ', 'гэн', 'гэнъ', 'гэнъэ', 'гэнъэт', 'гэнъэтԓ', 'гэнъэтԓи', 'гэнъэтԓин', '_', 'пы', 'пык', 'пыки', 'пыкир', 'пыкирг', 'пыкиргъ', 'пыкиргъи', '_', 'эг', 'эгы', 'эгыч', 'эгычг', 'эгычгы', 'эгычгын', '_', 'нэ', 'нэм', 'нэмэ', '_']], ['пынԓёгъэ ымто еп эпытъутвикэ', ['пы', 'пын', 'пынԓ', 'пынԓё', 'пынԓёг', 'пынԓёгъ', 'пынԓёгъэ', '_', 'ым', 'ымт', 'ымто', '_', 'еп', '_', 'эп', 'эпы', 'эпыт', 'эпытъ', 'эпытъу', 'эпытъут', 'эпытъутв', 'эпытъутви', 'эпытъутвик', 'эпытъутвикэ', '_']], ['вынэ ӄун киткит еп ынраӄ вай игыр аткэвма', ['вы', 'вын', 'вынэ', '_', 'ӄу', 'ӄун', '_', 'ки', 'кит', 'китк', 'китки', 'киткит', '_', 'еп', '_', 'ын', 'ынр', 'ынра', 'ынраӄ', '_', 'ва', 'вай', '_', 'иг', 'игы', 'игыр', '_', 'ат', 'атк', 'аткэ', 'аткэв', 'аткэвм', 'аткэвма', '_']], ['гэрэӈэтигым ынкъам ынӄэната ԓюӈэчьэтэ титык', ['гэ', 'гэр', 'гэрэ', 'гэрэӈ', 'гэрэӈэ', 'гэрэӈэт', 'гэрэӈэти', 'гэрэӈэтиг', 'гэрэӈэтигы', 'гэрэӈэтигым', '_', 'ын', 'ынк', 'ынкъ', 'ынкъа', 'ынкъам', '_', 'ын', 'ынӄ', 'ынӄэ', 'ынӄэн', 'ынӄэна', 'ынӄэнат', 'ынӄэната', '_', 'ԓю', 'ԓюӈ', 'ԓюӈэ', 'ԓюӈэч', 'ԓюӈэчь', 'ԓюӈэчьэ', 'ԓюӈэчьэт', 'ԓюӈэчьэтэ', '_', 'ти', 'тит', 'титы', 'титык', '_']], ['ынаным игыр ныԓгинымэԓьэв трэтэйӈэты ынкъам', ['ын', 'ына', 'ынан', 'ынаны', 'ынаным', '_', 'иг', 'игы', 'игыр', '_', 'ны', 'ныԓ', 'ныԓг', 'ныԓги', 'ныԓгин', 'ныԓгины', 'ныԓгиным', 'ныԓгинымэ', 'ныԓгинымэԓ', 'ныԓгинымэԓь', 'ныԓгинымэԓьэ', 'ныԓгинымэԓьэв', '_', 'тр', 'трэ', 'трэт', 'трэтэ', 'трэтэй', 'трэтэйӈ', 'трэтэйӈэ', 'трэтэйӈэт', 'трэтэйӈэты', '_', 'ын', 'ынк', 'ынкъ', 'ынкъа', 'ынкъам', '_']], ['трэԓгэчьэты опопы ынан яврэна чама тэмпытъутвиԓьигым ринэнугъэ', ['тр', 'трэ', 'трэԓ', 'трэԓг', 'трэԓгэ', 'трэԓгэч', 'трэԓгэчь', 'трэԓгэчьэ', 'трэԓгэчьэт', 'трэԓгэчьэты', '_', 'оп', 'опо', 'опоп', 'опопы', '_', 'ын', 'ына', 'ынан', '_', 'яв', 'явр', 'яврэ', 'яврэн', 'яврэна', '_', 'ча', 'чам', 'чама', '_', 'тэ', 'тэм', 'тэмп', 'тэмпы', 'тэмпыт', 'тэмпытъ', 'тэмпытъу', 'тэмпытъут', 'тэмпытъутв', 'тэмпытъутви', 'тэмпытъутвиԓ', 'тэмпытъутвиԓь', 'тэмпытъутвиԓьи', 'тэмпытъутвиԓьиг', 'тэмпытъутвиԓьигы', 'эмпытъутвиԓьигым', '_', 'ри', 'рин', 'ринэ', 'ринэн', 'ринэну', 'ринэнуг', 'ринэнугъ', 'ринэнугъэ', '_']], ['ээй вынэ ӄэгԓынангэр ытԓён тэкэм', ['ээ', 'ээй', '_', 'вы', 'вын', 'вынэ', '_', 'ӄэ', 'ӄэг', 'ӄэгԓ', 'ӄэгԓы', 'ӄэгԓын', 'ӄэгԓына', 'ӄэгԓынан', 'ӄэгԓынанг', 'ӄэгԓынангэ', 'ӄэгԓынангэр', '_', 'ыт', 'ытԓ', 'ытԓё', 'ытԓён', '_', 'тэ', 'тэк', 'тэкэ', 'тэкэм', '_']], ['ынӈин эквэтгъи нотагты', ['ын', 'ынӈ', 'ынӈи', 'ынӈин', '_', 'эк', 'экв', 'эквэ', 'эквэт', 'эквэтг', 'эквэтгъ', 'эквэтгъи', '_', 'но', 'нот', 'нота', 'нотаг', 'нотагт', 'нотагты', '_']], ['эгычгын аны таӈэтъо', ['эг', 'эгы', 'эгыч', 'эгычг', 'эгычгы', 'эгычгын', '_', 'ан', 'аны', '_', 'та', 'таӈ', 'таӈэ', 'таӈэт', 'таӈэтъ', 'таӈэтъо', '_']], ['ымԓьаԓяӈэт нырэрмэвӈыӄин таачымынтано нъаԓтыԓягты ӄынвэр', ['ым', 'ымԓ', 'ымԓь', 'ымԓьа', 'ымԓьаԓ', 'ымԓьаԓя', 'ымԓьаԓяӈ', 'ымԓьаԓяӈэ', 'ымԓьаԓяӈэт', '_', 'ны', 'ныр', 'нырэ', 'нырэр', 'нырэрм', 'нырэрмэ', 'нырэрмэв', 'нырэрмэвӈ', 'нырэрмэвӈы', 'нырэрмэвӈыӄ', 'нырэрмэвӈыӄи', 'нырэрмэвӈыӄин', '_', 'та', 'таа', 'таач', 'таачы', 'таачым', 'таачымы', 'таачымын', 'таачымынт', 'таачымынта', 'таачымынтан', 'таачымынтано', '_', 'нъ', 'нъа', 'нъаԓ', 'нъаԓт', 'нъаԓты', 'нъаԓтыԓ', 'нъаԓтыԓя', 'нъаԓтыԓяг', 'нъаԓтыԓягт', 'нъаԓтыԓягты', '_', 'ӄы', 'ӄын', 'ӄынв', 'ӄынвэ', 'ӄынвэр', '_']], ['кыткытръогъэ гатаннынԓен таачымынтано', ['кы', 'кыт', 'кытк', 'кыткы', 'кыткыт', 'кыткытр', 'кыткытръ', 'кыткытръо', 'кыткытръог', 'кыткытръогъ', 'кыткытръогъэ', '_', 'га', 'гат', 'гата', 'гатан', 'гатанн', 'гатанны', 'гатаннын', 'гатаннынԓ', 'гатаннынԓе', 'гатаннынԓен', '_', 'та', 'таа', 'таач', 'таачы', 'таачым', 'таачымы', 'таачымын', 'таачымынт', 'таачымынта', 'таачымынтан', 'таачымынтано', '_']], ['ныԓгинъумэв чама ԓыгэрвынныткынԓьо наӄам чит ԓыгъаӄарынныԓьо', ['ны', 'ныԓ', 'ныԓг', 'ныԓги', 'ныԓгин', 'ныԓгинъ', 'ныԓгинъу', 'ныԓгинъум', 'ныԓгинъумэ', 'ныԓгинъумэв', '_', 'ча', 'чам', 'чама', '_', 'ԓы', 'ԓыг', 'ԓыгэ', 'ԓыгэр', 'ԓыгэрв', 'ԓыгэрвы', 'ԓыгэрвын', 'ԓыгэрвынн', 'ԓыгэрвынны', 'ԓыгэрвынныт', 'ԓыгэрвыннытк', 'ԓыгэрвынныткы', 'ԓыгэрвынныткын', 'ԓыгэрвынныткынԓ', 'ԓыгэрвынныткынԓь', 'ыгэрвынныткынԓьо', '_', 'на', 'наӄ', 'наӄа', 'наӄам', '_', 'чи', 'чит', '_', 'ԓы', 'ԓыг', 'ԓыгъ', 'ԓыгъа', 'ԓыгъаӄ', 'ԓыгъаӄа', 'ԓыгъаӄар', 'ԓыгъаӄары', 'ԓыгъаӄарын', 'ԓыгъаӄарынн', 'ԓыгъаӄарынны', 'ԓыгъаӄарынныԓ', 'ԓыгъаӄарынныԓь', 'ԓыгъаӄарынныԓьо', '_']], ['гатваԓен ынӄэната нынну ԓыгнин аӄанныӄай вынэ этъым ынкы', ['га', 'гат', 'гатв', 'гатва', 'гатваԓ', 'гатваԓе', 'гатваԓен', '_', 'ын', 'ынӄ', 'ынӄэ', 'ынӄэн', 'ынӄэна', 'ынӄэнат', 'ынӄэната', '_', 'ны', 'нын', 'нынн', 'нынну', '_', 'ԓы', 'ԓыг', 'ԓыгн', 'ԓыгни', 'ԓыгнин', '_', 'аӄ', 'аӄа', 'аӄан', 'аӄанн', 'аӄанны', 'аӄанныӄ', 'аӄанныӄа', 'аӄанныӄай', '_', 'вы', 'вын', 'вынэ', '_', 'эт', 'этъ', 'этъы', 'этъым', '_', 'ын', 'ынк', 'ынкы', '_']], ['таачымынтано этъо гэрмэвԓин миӈкы', ['та', 'таа', 'таач', 'таачы', 'таачым', 'таачымы', 'таачымын', 'таачымынт', 'таачымынта', 'таачымынтан', 'таачымынтано', '_', 'эт', 'этъ', 'этъо', '_', 'гэ', 'гэр', 'гэрм', 'гэрмэ', 'гэрмэв', 'гэрмэвԓ', 'гэрмэвԓи', 'гэрмэвԓин', '_', 'ми', 'миӈ', 'миӈк', 'миӈкы', '_']], ['ӈан ԓыгэн энмык выквычгык рээн нывэтъатэчетыԓьатӄэн ԓыгэн', ['ӈа', 'ӈан', '_', 'ԓы', 'ԓыг', 'ԓыгэ', 'ԓыгэн', '_', 'эн', 'энм', 'энмы', 'энмык', '_', 'вы', 'вык', 'выкв', 'выквы', 'выквыч', 'выквычг', 'выквычгы', 'выквычгык', '_', 'рэ', 'рээ', 'рээн', '_', 'ны', 'ныв', 'нывэ', 'нывэт', 'нывэтъ', 'нывэтъа', 'нывэтъат', 'нывэтъатэ', 'нывэтъатэч', 'нывэтъатэче', 'нывэтъатэчет', 'нывэтъатэчеты', 'нывэтъатэчетыԓ', 'нывэтъатэчетыԓь', 'нывэтъатэчетыԓьа', 'ывэтъатэчетыԓьат', 'вэтъатэчетыԓьатӄ', 'этъатэчетыԓьатӄэ', 'тъатэчетыԓьатӄэн', '_', 'ԓы', 'ԓыг', 'ԓыгэ', 'ԓыгэн', '_']], ['тэнԓымынӈин нитыԓьэтӄин ымаԓяӈэт ынӄо эԓеӈит гаԓягъэ ԓьэԓеӈръугъи нэмъэм', ['тэ', 'тэн', 'тэнԓ', 'тэнԓы', 'тэнԓым', 'тэнԓымы', 'тэнԓымын', 'тэнԓымынӈ', 'тэнԓымынӈи', 'тэнԓымынӈин', '_', 'ни', 'нит', 'ниты', 'нитыԓ', 'нитыԓь', 'нитыԓьэ', 'нитыԓьэт', 'нитыԓьэтӄ', 'нитыԓьэтӄи', 'нитыԓьэтӄин', '_', 'ым', 'ыма', 'ымаԓ', 'ымаԓя', 'ымаԓяӈ', 'ымаԓяӈэ', 'ымаԓяӈэт', '_', 'ын', 'ынӄ', 'ынӄо', '_', 'эԓ', 'эԓе', 'эԓеӈ', 'эԓеӈи', 'эԓеӈит', '_', 'га', 'гаԓ', 'гаԓя', 'гаԓяг', 'гаԓягъ', 'гаԓягъэ', '_', 'ԓь', 'ԓьэ', 'ԓьэԓ', 'ԓьэԓе', 'ԓьэԓеӈ', 'ԓьэԓеӈр', 'ԓьэԓеӈръ', 'ԓьэԓеӈръу', 'ԓьэԓеӈръуг', 'ԓьэԓеӈръугъ', 'ԓьэԓеӈръугъи', '_', 'нэ', 'нэм', 'нэмъ', 'нэмъэ', 'нэмъэм', '_']], ['пыкэрычгатгъэ эгычгын ам етти ии вынэ', ['пы', 'пык', 'пыкэ', 'пыкэр', 'пыкэры', 'пыкэрыч', 'пыкэрычг', 'пыкэрычга', 'пыкэрычгат', 'пыкэрычгатг', 'пыкэрычгатгъ', 'пыкэрычгатгъэ', '_', 'эг', 'эгы', 'эгыч', 'эгычг', 'эгычгы', 'эгычгын', '_', 'ам', '_', 'ет', 'етт', 'етти', '_', 'ии', '_', 'вы', 'вын', 'вынэ', '_']], ['ымто вынэ', ['ым', 'ымт', 'ымто', '_', 'вы', 'вын', 'вынэ', '_']], ['итык нымэԓигым ытръэч', ['ит', 'иты', 'итык', '_', 'ны', 'ным', 'нымэ', 'нымэԓ', 'нымэԓи', 'нымэԓиг', 'нымэԓигы', 'нымэԓигым', '_', 'ыт', 'ытр', 'ытръ', 'ытръэ', 'ытръэч', '_']], ['вай кытуркин ӄопӄатгыргын еп армагтыка ако', ['ва', 'вай', '_', 'кы', 'кыт', 'кыту', 'кытур', 'кытурк', 'кытурки', 'кытуркин', '_', 'ӄо', 'ӄоп', 'ӄопӄ', 'ӄопӄа', 'ӄопӄат', 'ӄопӄатг', 'ӄопӄатгы', 'ӄопӄатгыр', 'ӄопӄатгырг', 'ӄопӄатгыргы', 'ӄопӄатгыргын', '_', 'еп', '_', 'ар', 'арм', 'арма', 'армаг', 'армагт', 'армагты', 'армагтык', 'армагтыка', '_', 'ак', 'ако', '_']], ['эԓымӈэ наӄам ԓым яврэна трэтэнтыргэквъэ иамым опопы яврэна вынэ', ['эԓ', 'эԓы', 'эԓым', 'эԓымӈ', 'эԓымӈэ', '_', 'на', 'наӄ', 'наӄа', 'наӄам', '_', 'ԓы', 'ԓым', '_', 'яв', 'явр', 'яврэ', 'яврэн', 'яврэна', '_', 'тр', 'трэ', 'трэт', 'трэтэ', 'трэтэн', 'трэтэнт', 'трэтэнты', 'трэтэнтыр', 'трэтэнтырг', 'трэтэнтыргэ', 'трэтэнтыргэк', 'трэтэнтыргэкв', 'трэтэнтыргэквъ', 'трэтэнтыргэквъэ', '_', 'иа', 'иам', 'иамы', 'иамым', '_', 'оп', 'опо', 'опоп', 'опопы', '_', 'яв', 'явр', 'яврэ', 'яврэн', 'яврэна', '_', 'вы', 'вын', 'вынэ', '_']], ['эвыр ам ӄэгԓын ынан яврэна нэмэ эквэтгъи эгычгын', ['эв', 'эвы', 'эвыр', '_', 'ам', '_', 'ӄэ', 'ӄэг', 'ӄэгԓ', 'ӄэгԓы', 'ӄэгԓын', '_', 'ын', 'ына', 'ынан', '_', 'яв', 'явр', 'яврэ', 'яврэн', 'яврэна', '_', 'нэ', 'нэм', 'нэмэ', '_', 'эк', 'экв', 'эквэ', 'эквэт', 'эквэтг', 'эквэтгъ', 'эквэтгъи', '_', 'эг', 'эгы', 'эгыч', 'эгычг', 'эгычгы', 'эгычгын', '_']], ['пэԓятгъэ аӄанныӄай ынӄо ԓьэԓеӈит', ['пэ', 'пэԓ', 'пэԓя', 'пэԓят', 'пэԓятг', 'пэԓятгъ', 'пэԓятгъэ', '_', 'аӄ', 'аӄа', 'аӄан', 'аӄанн', 'аӄанны', 'аӄанныӄ', 'аӄанныӄа', 'аӄанныӄай', '_', 'ын', 'ынӄ', 'ынӄо', '_', 'ԓь', 'ԓьэ', 'ԓьэԓ', 'ԓьэԓе', 'ԓьэԓеӈ', 'ԓьэԓеӈи', 'ԓьэԓеӈит', '_']], ['гаԓягъэ нэмэ эԓеръугъи', ['га', 'гаԓ', 'гаԓя', 'гаԓяг', 'гаԓягъ', 'гаԓягъэ', '_', 'нэ', 'нэм', 'нэмэ', '_', 'эԓ', 'эԓе', 'эԓер', 'эԓеръ', 'эԓеръу', 'эԓеръуг', 'эԓеръугъ', 'эԓеръугъи', '_']], ['аӄанныкай энмэч ӈирэӄэвыԓьу', ['аӄ', 'аӄа', 'аӄан', 'аӄанн', 'аӄанны', 'аӄаннык', 'аӄанныка', 'аӄанныкай', '_', 'эн', 'энм', 'энмэ', 'энмэч', '_', 'ӈи', 'ӈир', 'ӈирэ', 'ӈирэӄ', 'ӈирэӄэ', 'ӈирэӄэв', 'ӈирэӄэвы', 'ӈирэӄэвыԓ', 'ӈирэӄэвыԓь', 'ӈирэӄэвыԓьу', '_']], ['нъэԓгъи ынкы тэгмэчынкы ниԓюԓьэтӄин ынкъам тэгмэчынкы гатыргавъяаԓен', ['нъ', 'нъэ', 'нъэԓ', 'нъэԓг', 'нъэԓгъ', 'нъэԓгъи', '_', 'ын', 'ынк', 'ынкы', '_', 'тэ', 'тэг', 'тэгм', 'тэгмэ', 'тэгмэч', 'тэгмэчы', 'тэгмэчын', 'тэгмэчынк', 'тэгмэчынкы', '_', 'ни', 'ниԓ', 'ниԓю', 'ниԓюԓ', 'ниԓюԓь', 'ниԓюԓьэ', 'ниԓюԓьэт', 'ниԓюԓьэтӄ', 'ниԓюԓьэтӄи', 'ниԓюԓьэтӄин', '_', 'ын', 'ынк', 'ынкъ', 'ынкъа', 'ынкъам', '_', 'тэ', 'тэг', 'тэгм', 'тэгмэ', 'тэгмэч', 'тэгмэчы', 'тэгмэчын', 'тэгмэчынк', 'тэгмэчынкы', '_', 'га', 'гат', 'гаты', 'гатыр', 'гатырг', 'гатырга', 'гатыргав', 'гатыргавъ', 'гатыргавъя', 'гатыргавъяа', 'гатыргавъяаԓ', 'гатыргавъяаԓе', 'гатыргавъяаԓен', '_']], ['гэԓгъумыԓьиннэвԓин гэԓгэрмэвԓин ынкъам гэԓгинъытвиԓин', ['гэ', 'гэԓ', 'гэԓг', 'гэԓгъ', 'гэԓгъу', 'гэԓгъум', 'гэԓгъумы', 'гэԓгъумыԓ', 'гэԓгъумыԓь', 'гэԓгъумыԓьи', 'гэԓгъумыԓьин', 'гэԓгъумыԓьинн', 'гэԓгъумыԓьиннэ', 'гэԓгъумыԓьиннэв', 'гэԓгъумыԓьиннэвԓ', 'эԓгъумыԓьиннэвԓи', 'ԓгъумыԓьиннэвԓин', '_', 'гэ', 'гэԓ', 'гэԓг', 'гэԓгэ', 'гэԓгэр', 'гэԓгэрм', 'гэԓгэрмэ', 'гэԓгэрмэв', 'гэԓгэрмэвԓ', 'гэԓгэрмэвԓи', 'гэԓгэрмэвԓин', '_', 'ын', 'ынк', 'ынкъ', 'ынкъа', 'ынкъам', '_', 'гэ', 'гэԓ', 'гэԓг', 'гэԓги', 'гэԓгин', 'гэԓгинъ', 'гэԓгинъы', 'гэԓгинъыт', 'гэԓгинъытв', 'гэԓгинъытви', 'гэԓгинъытвиԓ', 'гэԓгинъытвиԓи', 'гэԓгинъытвиԓин', '_']], ['тэгмэчынкы этъым гатэнмавԓен ӄынвэр', ['тэ', 'тэг', 'тэгм', 'тэгмэ', 'тэгмэч', 'тэгмэчы', 'тэгмэчын', 'тэгмэчынк', 'тэгмэчынкы', '_', 'эт', 'этъ', 'этъы', 'этъым', '_', 'га', 'гат', 'гатэ', 'гатэн', 'гатэнм', 'гатэнма', 'гатэнмав', 'гатэнмавԓ', 'гатэнмавԓе', 'гатэнмавԓен', '_', 'ӄы', 'ӄын', 'ӄынв', 'ӄынвэ', 'ӄынвэр', '_']], ['гытгаръогъэ эвын ӈэраӄавыԓьычго гэнъэтԓин аӄанныӄай нычимгъуӄин ытԓён', ['гы', 'гыт', 'гытг', 'гытга', 'гытгар', 'гытгаръ', 'гытгаръо', 'гытгаръог', 'гытгаръогъ', 'гытгаръогъэ', '_', 'эв', 'эвы', 'эвын', '_', 'ӈэ', 'ӈэр', 'ӈэра', 'ӈэраӄ', 'ӈэраӄа', 'ӈэраӄав', 'ӈэраӄавы', 'ӈэраӄавыԓ', 'ӈэраӄавыԓь', 'ӈэраӄавыԓьы', 'ӈэраӄавыԓьыч', 'ӈэраӄавыԓьычг', 'ӈэраӄавыԓьычго', '_', 'гэ', 'гэн', 'гэнъ', 'гэнъэ', 'гэнъэт', 'гэнъэтԓ', 'гэнъэтԓи', 'гэнъэтԓин', '_', 'аӄ', 'аӄа', 'аӄан', 'аӄанн', 'аӄанны', 'аӄанныӄ', 'аӄанныӄа', 'аӄанныӄай', '_', 'ны', 'ныч', 'нычи', 'нычим', 'нычимг', 'нычимгъ', 'нычимгъу', 'нычимгъуӄ', 'нычимгъуӄи', 'нычимгъуӄин', '_', 'ыт', 'ытԓ', 'ытԓё', 'ытԓён', '_']], ['нивӄин ӄэйвэ пэтԓе энайъоркын эгычга этъым игыр', ['ни', 'нив', 'нивӄ', 'нивӄи', 'нивӄин', '_', 'ӄэ', 'ӄэй', 'ӄэйв', 'ӄэйвэ', '_', 'пэ', 'пэт', 'пэтԓ', 'пэтԓе', '_', 'эн', 'эна', 'энай', 'энайъ', 'энайъо', 'энайъор', 'энайъорк', 'энайъоркы', 'энайъоркын', '_', 'эг', 'эгы', 'эгыч', 'эгычг', 'эгычга', '_', 'эт', 'этъ', 'этъы', 'этъым', '_', 'иг', 'игы', 'игыр', '_']], ['ынӈатаԓ руйгут тритгъэ тъэче кивыткук', ['ын', 'ынӈ', 'ынӈа', 'ынӈат', 'ынӈата', 'ынӈатаԓ', '_', 'ру', 'руй', 'руйг', 'руйгу', 'руйгут', '_', 'тр', 'три', 'трит', 'тритг', 'тритгъ', 'тритгъэ', '_', 'тъ', 'тъэ', 'тъэч', 'тъэче', '_', 'ки', 'кив', 'кивы', 'кивыт', 'кивытк', 'кивытку', 'кивыткук', '_']], ['эвыр пыкиргъи гытԓьэгычгын ивнин аӄанныӄайына ам етти ии ик игырым ынӈатаԓ этъым трэнугыт', ['эв', 'эвы', 'эвыр', '_', 'пы', 'пык', 'пыки', 'пыкир', 'пыкирг', 'пыкиргъ', 'пыкиргъи', '_', 'гы', 'гыт', 'гытԓ', 'гытԓь', 'гытԓьэ', 'гытԓьэг', 'гытԓьэгы', 'гытԓьэгыч', 'гытԓьэгычг', 'гытԓьэгычгы', 'гытԓьэгычгын', '_', 'ив', 'ивн', 'ивни', 'ивнин', '_', 'аӄ', 'аӄа', 'аӄан', 'аӄанн', 'аӄанны', 'аӄанныӄ', 'аӄанныӄа', 'аӄанныӄай', 'аӄанныӄайы', 'аӄанныӄайын', 'аӄанныӄайына', '_', 'ам', '_', 'ет', 'етт', 'етти', '_', 'ии', '_', 'ик', '_', 'иг', 'игы', 'игыр', 'игыры', 'игырым', '_', 'ын', 'ынӈ', 'ынӈа', 'ынӈат', 'ынӈата', 'ынӈатаԓ', '_', 'эт', 'этъ', 'этъы', 'этъым', '_', 'тр', 'трэ', 'трэн', 'трэну', 'трэнуг', 'трэнугы', 'трэнугыт', '_']], ['вэтгочнэн аӄанныӄайына ии миӈкыри ӄун', ['вэ', 'вэт', 'вэтг', 'вэтго', 'вэтгоч', 'вэтгочн', 'вэтгочнэ', 'вэтгочнэн', '_', 'аӄ', 'аӄа', 'аӄан', 'аӄанн', 'аӄанны', 'аӄанныӄ', 'аӄанныӄа', 'аӄанныӄай', 'аӄанныӄайы', 'аӄанныӄайын', 'аӄанныӄайына', '_', 'ии', '_', 'ми', 'миӈ', 'миӈк', 'миӈкы', 'миӈкыр', 'миӈкыри', '_', 'ӄу', 'ӄун', '_']], ['игыр тэчьэтык ынӈъэм ванэван ытръэч', ['иг', 'игы', 'игыр', '_', 'тэ', 'тэч', 'тэчь', 'тэчьэ', 'тэчьэт', 'тэчьэты', 'тэчьэтык', '_', 'ын', 'ынӈ', 'ынӈъ', 'ынӈъэ', 'ынӈъэм', '_', 'ва', 'ван', 'ванэ', 'ванэв', 'ванэва', 'ванэван', '_', 'ыт', 'ытр', 'ытръ', 'ытръэ', 'ытръэч', '_']], ['гэрмэвԓин ԓыгъумыԓьинныԓьу гэнъэтԓин наӄам таӈэтъо', ['гэ', 'гэр', 'гэрм', 'гэрмэ', 'гэрмэв', 'гэрмэвԓ', 'гэрмэвԓи', 'гэрмэвԓин', '_', 'ԓы', 'ԓыг', 'ԓыгъ', 'ԓыгъу', 'ԓыгъум', 'ԓыгъумы', 'ԓыгъумыԓ', 'ԓыгъумыԓь', 'ԓыгъумыԓьи', 'ԓыгъумыԓьин', 'ԓыгъумыԓьинн', 'ԓыгъумыԓьинны', 'ԓыгъумыԓьинныԓ', 'ԓыгъумыԓьинныԓь', 'ԓыгъумыԓьинныԓьу', '_', 'гэ', 'гэн', 'гэнъ', 'гэнъэ', 'гэнъэт', 'гэнъэтԓ', 'гэнъэтԓи', 'гэнъэтԓин', '_', 'на', 'наӄ', 'наӄа', 'наӄам', '_', 'та', 'таӈ', 'таӈэ', 'таӈэт', 'таӈэтъ', 'таӈэтъо', '_']], ['гъомтаннынԓен ынкъам', ['гъ', 'гъо', 'гъом', 'гъомт', 'гъомта', 'гъомтан', 'гъомтанн', 'гъомтанны', 'гъомтаннын', 'гъомтаннынԓ', 'гъомтаннынԓе', 'гъомтаннынԓен', '_', 'ын', 'ынк', 'ынкъ', 'ынкъа', 'ынкъам', '_']], ['эгычга ивнин вынэ эвыр', ['эг', 'эгы', 'эгыч', 'эгычг', 'эгычга', '_', 'ив', 'ивн', 'ивни', 'ивнин', '_', 'вы', 'вын', 'вынэ', '_', 'эв', 'эвы', 'эвыр', '_']], ['эченурым ынанкэн', ['эч', 'эче', 'эчен', 'эчену', 'эченур', 'эченуры', 'эченурым', '_', 'ын', 'ына', 'ынан', 'ынанк', 'ынанкэ', 'ынанкэн', '_']], ['мымэчгынтэвык ӄэԓюӄ ԓыгэн', ['мы', 'мым', 'мымэ', 'мымэч', 'мымэчг', 'мымэчгы', 'мымэчгын', 'мымэчгынт', 'мымэчгынтэ', 'мымэчгынтэв', 'мымэчгынтэвы', 'мымэчгынтэвык', '_', 'ӄэ', 'ӄэԓ', 'ӄэԓю', 'ӄэԓюӄ', '_', 'ԓы', 'ԓыг', 'ԓыгэ', 'ԓыгэн', '_']], ['муԓвык ээй вынэ', ['му', 'муԓ', 'муԓв', 'муԓвы', 'муԓвык', '_', 'ээ', 'ээй', '_', 'вы', 'вын', 'вынэ', '_']], ['ӄыгынтэвыԓьэт гынтэквъи аӄанныӄай аны', ['ӄы', 'ӄыг', 'ӄыгы', 'ӄыгын', 'ӄыгынт', 'ӄыгынтэ', 'ӄыгынтэв', 'ӄыгынтэвы', 'ӄыгынтэвыԓ', 'ӄыгынтэвыԓь', 'ӄыгынтэвыԓьэ', 'ӄыгынтэвыԓьэт', '_', 'гы', 'гын', 'гынт', 'гынтэ', 'гынтэк', 'гынтэкв', 'гынтэквъ', 'гынтэквъи', '_', 'аӄ', 'аӄа', 'аӄан', 'аӄанн', 'аӄанны', 'аӄанныӄ', 'аӄанныӄа', 'аӄанныӄай', '_', 'ан', 'аны', '_']], ['гэркыԓеԓьэтԓин эгычга аны гэйъэтыԓеԓинэт аӄанныӄайынаым', ['гэ', 'гэр', 'гэрк', 'гэркы', 'гэркыԓ', 'гэркыԓе', 'гэркыԓеԓ', 'гэркыԓеԓь', 'гэркыԓеԓьэ', 'гэркыԓеԓьэт', 'гэркыԓеԓьэтԓ', 'гэркыԓеԓьэтԓи', 'гэркыԓеԓьэтԓин', '_', 'эг', 'эгы', 'эгыч', 'эгычг', 'эгычга', '_', 'ан', 'аны', '_', 'гэ', 'гэй', 'гэйъ', 'гэйъэ', 'гэйъэт', 'гэйъэты', 'гэйъэтыԓ', 'гэйъэтыԓе', 'гэйъэтыԓеԓ', 'гэйъэтыԓеԓи', 'гэйъэтыԓеԓин', 'гэйъэтыԓеԓинэ', 'гэйъэтыԓеԓинэт', '_', 'аӄ', 'аӄа', 'аӄан', 'аӄанн', 'аӄанны', 'аӄанныӄ', 'аӄанныӄа', 'аӄанныӄай', 'аӄанныӄайы', 'аӄанныӄайын', 'аӄанныӄайына', 'аӄанныӄайынаы', 'аӄанныӄайынаым', '_']], ['ыръэ ванэван ныпэԓянэн ынкы пытԓяӄ мэтчымче', ['ыр', 'ыръ', 'ыръэ', '_', 'ва', 'ван', 'ванэ', 'ванэв', 'ванэва', 'ванэван', '_', 'ны', 'нып', 'ныпэ', 'ныпэԓ', 'ныпэԓя', 'ныпэԓян', 'ныпэԓянэ', 'ныпэԓянэн', '_', 'ын', 'ынк', 'ынкы', '_', 'пы', 'пыт', 'пытԓ', 'пытԓя', 'пытԓяӄ', '_', 'мэ', 'мэт', 'мэтч', 'мэтчы', 'мэтчым', 'мэтчымч', 'мэтчымче', '_']], ['рыԓейгут нинэнтыӄин ынраӄ эгычгын', ['ры', 'рыԓ', 'рыԓе', 'рыԓей', 'рыԓейг', 'рыԓейгу', 'рыԓейгут', '_', 'ни', 'нин', 'нинэ', 'нинэн', 'нинэнт', 'нинэнты', 'нинэнтыӄ', 'нинэнтыӄи', 'нинэнтыӄин', '_', 'ын', 'ынр', 'ынра', 'ынраӄ', '_', 'эг', 'эгы', 'эгыч', 'эгычг', 'эгычгы', 'эгычгын', '_']], ['ныԓгинимпэӄин аӄанныӄайынаым', ['ны', 'ныԓ', 'ныԓг', 'ныԓги', 'ныԓгин', 'ныԓгини', 'ныԓгиним', 'ныԓгинимп', 'ныԓгинимпэ', 'ныԓгинимпэӄ', 'ныԓгинимпэӄи', 'ныԓгинимпэӄин', '_', 'аӄ', 'аӄа', 'аӄан', 'аӄанн', 'аӄанны', 'аӄанныӄ', 'аӄанныӄа', 'аӄанныӄай', 'аӄанныӄайы', 'аӄанныӄайын', 'аӄанныӄайына', 'аӄанныӄайынаы', 'аӄанныӄайынаым', '_']], ['ӄытԓыги эквэнмыйӈэты нинэнԓьэтэтӄин', ['ӄы', 'ӄыт', 'ӄытԓ', 'ӄытԓы', 'ӄытԓыг', 'ӄытԓыги', '_', 'эк', 'экв', 'эквэ', 'эквэн', 'эквэнм', 'эквэнмы', 'эквэнмый', 'эквэнмыйӈ', 'эквэнмыйӈэ', 'эквэнмыйӈэт', 'эквэнмыйӈэты', '_', 'ни', 'нин', 'нинэ', 'нинэн', 'нинэнԓ', 'нинэнԓь', 'нинэнԓьэ', 'нинэнԓьэт', 'нинэнԓьэтэ', 'нинэнԓьэтэт', 'нинэнԓьэтэтӄ', 'нинэнԓьэтэтӄи', 'нинэнԓьэтэтӄин', '_']], ['ӄынвэр эгычгын ваӈэйпыӈӈой аны евев', ['ӄы', 'ӄын', 'ӄынв', 'ӄынвэ', 'ӄынвэр', '_', 'эг', 'эгы', 'эгыч', 'эгычг', 'эгычгы', 'эгычгын', '_', 'ва', 'ваӈ', 'ваӈэ', 'ваӈэй', 'ваӈэйп', 'ваӈэйпы', 'ваӈэйпыӈ', 'ваӈэйпыӈӈ', 'ваӈэйпыӈӈо', 'ваӈэйпыӈӈой', '_', 'ан', 'аны', '_', 'ев', 'еве', 'евев', '_']], ['наӄам', ['на', 'наӄ', 'наӄа', 'наӄам', '_']], ['нивигыт матчымчагты трэгынтэквъэ ӄун', ['ни', 'нив', 'ниви', 'нивиг', 'нивигы', 'нивигыт', '_', 'ма', 'мат', 'матч', 'матчы', 'матчым', 'матчымч', 'матчымча', 'матчымчаг', 'матчымчагт', 'матчымчагты', '_', 'тр', 'трэ', 'трэг', 'трэгы', 'трэгын', 'трэгынт', 'трэгынтэ', 'трэгынтэк', 'трэгынтэкв', 'трэгынтэквъ', 'трэгынтэквъэ', '_', 'ӄу', 'ӄун', '_']], ['эӄыԓпэ ӄэнайъоркын ынӄо', ['эӄ', 'эӄы', 'эӄыԓ', 'эӄыԓп', 'эӄыԓпэ', '_', 'ӄэ', 'ӄэн', 'ӄэна', 'ӄэнай', 'ӄэнайъ', 'ӄэнайъо', 'ӄэнайъор', 'ӄэнайъорк', 'ӄэнайъоркы', 'ӄэнайъоркын', '_', 'ын', 'ынӄ', 'ынӄо', '_']], ['энмык пыкэрыӈӈогъат', ['эн', 'энм', 'энмы', 'энмык', '_', 'пы', 'пык', 'пыкэ', 'пыкэр', 'пыкэры', 'пыкэрыӈ', 'пыкэрыӈӈ', 'пыкэрыӈӈо', 'пыкэрыӈӈог', 'пыкэрыӈӈогъ', 'пыкэрыӈӈогъа', 'пыкэрыӈӈогъат', '_']], ['ԓыгэн эвыр пыкиринэӈу', ['ԓы', 'ԓыг', 'ԓыгэ', 'ԓыгэн', '_', 'эв', 'эвы', 'эвыр', '_', 'пы', 'пык', 'пыки', 'пыкир', 'пыкири', 'пыкирин', 'пыкиринэ', 'пыкиринэӈ', 'пыкиринэӈу', '_']], ['аӄанныӄай гэпиӈкуԓин энмэпы эвыр эгиӈын эптэ наӄам энмээм вээмык ыпэ', ['аӄ', 'аӄа', 'аӄан', 'аӄанн', 'аӄанны', 'аӄанныӄ', 'аӄанныӄа', 'аӄанныӄай', '_', 'гэ', 'гэп', 'гэпи', 'гэпиӈ', 'гэпиӈк', 'гэпиӈку', 'гэпиӈкуԓ', 'гэпиӈкуԓи', 'гэпиӈкуԓин', '_', 'эн', 'энм', 'энмэ', 'энмэп', 'энмэпы', '_', 'эв', 'эвы', 'эвыр', '_', 'эг', 'эги', 'эгиӈ', 'эгиӈы', 'эгиӈын', '_', 'эп', 'эпт', 'эптэ', '_', 'на', 'наӄ', 'наӄа', 'наӄам', '_', 'эн', 'энм', 'энмэ', 'энмээ', 'энмээм', '_', 'вэ', 'вээ', 'вээм', 'вээмы', 'вээмык', '_', 'ып', 'ыпэ', '_']], ['ваԓьын аӄанныӄай вэтчата ваамрочыӈкы иргьи иныым', ['ва', 'ваԓ', 'ваԓь', 'ваԓьы', 'ваԓьын', '_', 'аӄ', 'аӄа', 'аӄан', 'аӄанн', 'аӄанны', 'аӄанныӄ', 'аӄанныӄа', 'аӄанныӄай', '_', 'вэ', 'вэт', 'вэтч', 'вэтча', 'вэтчат', 'вэтчата', '_', 'ва', 'ваа', 'ваам', 'ваамр', 'ваамро', 'ваамроч', 'ваамрочы', 'ваамрочыӈ', 'ваамрочыӈк', 'ваамрочыӈкы', '_', 'ир', 'ирг', 'иргь', 'иргьи', '_', 'ин', 'ины', 'иныы', 'иныым', '_']], ['ԓыгэн ӄынур', ['ԓы', 'ԓыг', 'ԓыгэ', 'ԓыгэн', '_', 'ӄы', 'ӄын', 'ӄыну', 'ӄынур', '_']], ['кыргытъоԓ эрэтгъи ынкъам гагыткамчаткоԓен чама ԓыгэн', ['кы', 'кыр', 'кырг', 'кыргы', 'кыргыт', 'кыргытъ', 'кыргытъо', 'кыргытъоԓ', '_', 'эр', 'эрэ', 'эрэт', 'эрэтг', 'эрэтгъ', 'эрэтгъи', '_', 'ын', 'ынк', 'ынкъ', 'ынкъа', 'ынкъам', '_', 'га', 'гаг', 'гагы', 'гагыт', 'гагытк', 'гагытка', 'гагыткам', 'гагыткамч', 'гагыткамча', 'гагыткамчат', 'гагыткамчатк', 'гагыткамчатко', 'гагыткамчаткоԓ', 'гагыткамчаткоԓе', 'гагыткамчаткоԓен', '_', 'ча', 'чам', 'чама', '_', 'ԓы', 'ԓыг', 'ԓыгэ', 'ԓыгэн', '_']]]\n",
      "Correct 0\n"
     ]
    }
   ],
   "source": [
    "output_file2 = open(\"output_seq15_validation_100.txt\",\"a\")\n",
    "input_line = ['ганмыԓеным ытԓьэн аймак тэӈӄырым ныпэԓянэн','рыԓейгут нинэнтыӄин ынраӄ эгычгын']\n",
    "correct=0\n",
    "total_output=[]\n",
    "for line in validation_data[:100]:\n",
    "    list1=line.split(\" \")\n",
    "    word_count = 0\n",
    "    #correct=0\n",
    "    \n",
    "    output=[]\n",
    "    trial=0\n",
    "    for x in list1:\n",
    "        text = \"\"\n",
    "        for j in range(len(x)):\n",
    "            if len(x)>=1:\n",
    "                text+=x[j]\n",
    "            #print(\"text\",text)\n",
    "                if len(text)>SEQUENCE_LENGTH:\n",
    "                    text=text[-SEQUENCE_LENGTH:]\n",
    "                #print(\"text\",text)\n",
    "                preds = predict_completions(text)\n",
    "                #print(\"preds\",preds)\n",
    "                #print(\"comparison\",x[j+1:])\n",
    "                if x[j+1:] in preds:\n",
    "                    correct+=1\n",
    "                    output.append(preds)\n",
    "                else:\n",
    "                    if j<len(x)-1:\n",
    "                        output+=[text+x[j+1]]\n",
    "                    else:\n",
    "                        output.append(\"_\")\n",
    "                        \n",
    "            #text+=x[1:] + \" \"\n",
    "        #output.append(\"_\")\n",
    "        #break\n",
    "            \n",
    "    #break\n",
    "    total_output.append([line,output])\n",
    "    output_file2.write(line+\"   \"+str(output)+\"\\n\")\n",
    "    \n",
    "    #print(output)\n",
    "    \n",
    "        \n",
    "#print(total_output)\n",
    "print(\"Correct\",correct)\n",
    "    "
   ]
  },
  {
   "cell_type": "code",
   "execution_count": 51,
   "metadata": {},
   "outputs": [
    {
     "name": "stdout",
     "output_type": "stream",
     "text": [
      "['г', 'га', 'ган', 'ганм', 'ганмы', 'ганмыԓ', 'ганмыԓе', 'ганмыԓен', 'ганмыԓены', 'ганмыԓеным', 'ы', 'ыт', 'ытԓ', 'ытԓь', 'ытԓьэ', 'ытԓьэн', 'а', 'ай', 'айм', 'айма', 'аймак', 'т', 'тэ', 'тэӈ', 'тэӈӄ', 'тэӈӄы', 'тэӈӄыр', 'тэӈӄыры', 'тэӈӄырым', 'н', 'ны', 'нып', 'ныпэ', 'ныпэԓ', 'ныпэԓя', 'ныпэԓян', 'ныпэԓянэ', 'ныпэԓянэн']\n"
     ]
    }
   ],
   "source": [
    "print(output)"
   ]
  },
  {
   "cell_type": "code",
   "execution_count": null,
   "metadata": {},
   "outputs": [],
   "source": []
  }
 ],
 "metadata": {
  "accelerator": "GPU",
  "colab": {
   "collapsed_sections": [],
   "provenance": []
  },
  "kernelspec": {
   "display_name": "Python 3 (ipykernel)",
   "language": "python",
   "name": "python3"
  },
  "language_info": {
   "codemirror_mode": {
    "name": "ipython",
    "version": 3
   },
   "file_extension": ".py",
   "mimetype": "text/x-python",
   "name": "python",
   "nbconvert_exporter": "python",
   "pygments_lexer": "ipython3",
   "version": "3.9.7"
  }
 },
 "nbformat": 4,
 "nbformat_minor": 1
}
